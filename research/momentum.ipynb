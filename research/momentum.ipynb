{
 "cells": [
  {
   "cell_type": "code",
   "execution_count": 1,
   "metadata": {},
   "outputs": [],
   "source": [
    "import nasdaqdatalink as quandl\n",
    "import matplotlib.pyplot as plt\n",
    "import numpy as np\n",
    "import pandas as pd\n",
    "from datetime import date, timedelta\n",
    "from common import date_util\n",
    "from data import investment_universe, sharadar_prices, sharadar_tickers"
   ]
  },
  {
   "cell_type": "code",
   "execution_count": 2,
   "metadata": {},
   "outputs": [],
   "source": [
    "quandl.ApiConfig.api_key = 'NRvcyMwNMXZ2ooDSM3nw'\n",
    "factor_summary = {}"
   ]
  },
  {
   "cell_type": "code",
   "execution_count": 3,
   "metadata": {},
   "outputs": [],
   "source": [
    "factor = \"momentum\"\n",
    "pnl = []\n",
    "sector_level_pnl = {}\n",
    "dates = []\n",
    "rebal_date = date(2000, 1, 1)\n",
    "while rebal_date <= date(2021, 12, 31):\n",
    "    rebal_date = date_util.get_next_rebal_day(rebal_date, 3)\n",
    "\n",
    "    universe = investment_universe.get_SPX(rebal_date)\n",
    "    \n",
    "    prices = sharadar_prices.get_prices(universe['ticker'].to_list(), rebal_date)\n",
    "    price_df = prices[[\"ticker\", \"closeadj\"]]\n",
    "    exit_prices = sharadar_prices.get_prices(universe['ticker'].to_list(), date_util.get_next_rebal_day(rebal_date, 3))\n",
    "    exit_prices_df = exit_prices[[\"ticker\", \"closeadj\"]]\n",
    "    sectors = sharadar_tickers.get_tickers(universe['ticker'].to_list(), rebal_date)\n",
    "    sectors = sectors[[\"ticker\", \"sector\"]]\n",
    "    vol_df = sharadar_prices.get_90d_vol(universe['ticker'].to_list(), rebal_date)\n",
    "\n",
    "    previous_month = date_util.get_bus_date(rebal_date - timedelta(weeks=4))\n",
    "    previous_month_df = sharadar_prices.get_prices(universe['ticker'].to_list(), previous_month)\n",
    "    previous_month_df = previous_month_df[[\"ticker\", \"closeadj\"]]\n",
    "\n",
    "    previous_year = date_util.get_bus_date(rebal_date - timedelta(weeks=52))\n",
    "    previous_year_df = sharadar_prices.get_prices(universe['ticker'].to_list(), previous_year)\n",
    "    previous_year_df = previous_year_df[[\"ticker\", \"closeadj\"]]\n",
    "\n",
    "    universe = pd.merge(universe, sectors, left_on=\"ticker\", right_on=\"ticker\", how=\"inner\")\n",
    "    fundamentals = pd.merge(universe, price_df, left_on=\"ticker\", right_on=\"ticker\", how=\"inner\")\n",
    "    fundamentals = pd.merge(fundamentals, exit_prices_df, left_on=\"ticker\", right_on=\"ticker\", how=\"inner\", suffixes=[\"\", \"_f1w\"])\n",
    "    fundamentals[\"forward_return\"] = fundamentals[\"closeadj_f1w\"] / fundamentals[\"closeadj\"] - 1\n",
    "    fundamentals = pd.merge(fundamentals, previous_month_df, left_on=\"ticker\", right_on=\"ticker\", how=\"inner\", suffixes=[\"\", \"_1m\"])\n",
    "    fundamentals = pd.merge(fundamentals, previous_year_df, left_on=\"ticker\", right_on=\"ticker\", how=\"inner\", suffixes=[\"\", \"_1y\"])\n",
    "    fundamentals = pd.merge(fundamentals, vol_df, left_on=\"ticker\", right_index=True, how=\"inner\")\n",
    "    fundamentals.loc[fundamentals[\"sector\"] == \"Real Estate\", \"sector\"] = \"Financial Services\"\n",
    "\n",
    "    dates.append(rebal_date)\n",
    "    if fundamentals.empty:\n",
    "        pnl.append(0)\n",
    "        continue\n",
    "    \n",
    "    fundamentals[\"momentum\"] = ((fundamentals[\"closeadj_1m\"] / fundamentals[\"closeadj_1y\"] - 1) - (fundamentals[\"closeadj\"] / fundamentals[\"closeadj_1m\"] - 1)) / fundamentals[\"Vol_90D\"]\n",
    "\n",
    "    fundamentals[\"momentum_z\"] = fundamentals.groupby(\"sector\", group_keys=False)[\"momentum\"].apply(lambda x: (x - np.mean(x)) / np.std(x))\n",
    "\n",
    "    fundamentals[\"composite\"] = fundamentals[\"momentum_z\"]\n",
    "\n",
    "    fundamentals = fundamentals.sort_values(\"composite\", ascending=False)\n",
    "    fundamentals = fundamentals[~fundamentals[\"composite\"].isna()]\n",
    "\n",
    "    pnl.append(fundamentals[fundamentals[\"composite\"] >= fundamentals.groupby(\"sector\")[\"composite\"].transform(\"quantile\", 0.8)][\"forward_return\"].mean() - \n",
    "                fundamentals[fundamentals[\"composite\"] <= fundamentals.groupby(\"sector\")[\"composite\"].transform(\"quantile\", 0.2)][\"forward_return\"].mean())\n",
    "    longs = fundamentals[fundamentals[\"composite\"] >= fundamentals.groupby(\"sector\")[\"composite\"].transform(\"quantile\", 0.8)].groupby(\"sector\").agg({\"forward_return\": \"sum\", \"ticker\": \"count\"})\n",
    "    shorts = fundamentals[fundamentals[\"composite\"] <= fundamentals.groupby(\"sector\")[\"composite\"].transform(\"quantile\", 0.2)].groupby(\"sector\").agg({\"forward_return\": \"sum\", \"ticker\": \"count\"})\n",
    "    sector_pnl = pd.merge(longs, shorts, left_index=True, right_index=True, suffixes=[\"_l\", \"_s\"])\n",
    "    sector_pnl[\"forward_return\"] = sector_pnl[\"forward_return_l\"] / sector_pnl[\"ticker_l\"] - sector_pnl[\"forward_return_s\"] / sector_pnl[\"ticker_s\"]\n",
    "    sector_level_pnl[rebal_date] = sector_pnl[\"forward_return\"].to_list()\n",
    "\n",
    "    if np.std(pnl[-26:]) * np.sqrt(52) > 0.15:\n",
    "        pnl[-1] = pnl[-1] * (0.15 * np.std(pnl[-26:]) * np.sqrt(52))\n",
    "    \n",
    "\n",
    "sector_level_pnl_df = pd.DataFrame.from_dict(sector_level_pnl, orient='index')\n",
    "factor_array = []\n",
    "pnl = np.array(pnl)\n",
    "pnl[np.isnan(pnl)] = 0\n",
    "\n",
    "pnl_df = pd.DataFrame({\"date\": dates, \"return\": pnl})\n",
    "pnl_df[\"date\"] = pd.to_datetime(pnl_df[\"date\"])\n",
    "pnl_df.set_index(\"date\", inplace=True)\n",
    "\n",
    "factor_array.append(np.mean(pnl) * 52)\n",
    "factor_array.append(np.std(pnl) * np.sqrt(52))\n",
    "sr = np.mean(pnl) / np.std(pnl) * np.sqrt(52)\n",
    "factor_array.append(sr)\n",
    "factor_array.append(sr * (1 + sr * pnl_df[\"return\"].skew() / 6 - sr ** 2 * pnl_df[\"return\"].kurt() / 24))\n",
    "\n",
    "cum_returns = np.cumprod(pnl + 1) - 1\n",
    "high_watermark = np.maximum.accumulate(cum_returns)\n",
    "drawdown = (high_watermark - cum_returns) / (1 + high_watermark)\n",
    "factor_array.append(np.max(drawdown))\n",
    "\n",
    "factor_array.append(len(pnl[pnl >= 0]) / len(pnl))\n",
    "factor_array.append(np.mean(pnl[pnl >= 0]))\n",
    "factor_array.append(np.mean(pnl[pnl < 0]))\n",
    "factor_array.append(np.max(pnl))\n",
    "factor_array.append(np.min(pnl))\n",
    "\n",
    "factor_array.append(np.mean(pnl_df.loc[\"2000\":\"2009\", \"return\"]) * 52)\n",
    "factor_array.append(np.std(pnl_df.loc[\"2000\":\"2009\", \"return\"]) * np.sqrt(52))\n",
    "factor_array.append(np.mean(pnl_df.loc[\"2000\":\"2009\", \"return\"]) / np.std(pnl_df.loc[\"2000\":\"2009\", \"return\"]) * np.sqrt(52))\n",
    "\n",
    "factor_array.append(np.mean(pnl_df.loc[\"2010\":\"2019\", \"return\"]) * 52)\n",
    "factor_array.append(np.std(pnl_df.loc[\"2010\":\"2019\", \"return\"]) * np.sqrt(52))\n",
    "factor_array.append(np.mean(pnl_df.loc[\"2010\":\"2019\", \"return\"]) / np.std(pnl_df.loc[\"2010\":\"2019\", \"return\"]) * np.sqrt(52))\n",
    "\n",
    "factor_array.extend(sector_level_pnl_df.sum(axis=0).to_list())\n",
    "factor_summary[factor] = factor_array"
   ]
  },
  {
   "cell_type": "code",
   "execution_count": 59,
   "metadata": {},
   "outputs": [],
   "source": [
    "pd.DataFrame.from_dict(factor_summary, orient='index').to_csv(\"factor_summary.csv\")"
   ]
  },
  {
   "cell_type": "code",
   "execution_count": 4,
   "metadata": {},
   "outputs": [
    {
     "data": {
      "text/plain": [
       "[<matplotlib.lines.Line2D at 0x7f8b3faeb5b0>]"
      ]
     },
     "execution_count": 4,
     "metadata": {},
     "output_type": "execute_result"
    },
    {
     "data": {
      "image/png": "[encoded data removed]",
      "text/plain": [
       "<Figure size 640x480 with 1 Axes>"
      ]
     },
     "metadata": {},
     "output_type": "display_data"
    }
   ],
   "source": [
    "fig, ax1 = plt.subplots()\n",
    "ax1.plot(dates, (np.cumprod(pnl + 1) - 1), color=\"tab:blue\")\n",
    "# ax2 = ax1.twinx()\n",
    "# rolling_vol = pnl_df.rolling(26).apply(np.std)\n",
    "# ax2.plot(rolling_vol * np.sqrt(52), color=\"tab:red\")\n",
    "# plt.grid()"
   ]
  },
  {
   "cell_type": "code",
   "execution_count": 55,
   "metadata": {},
   "outputs": [],
   "source": [
    "pnl_df.to_csv(\"/Users/weizhang/Documents/_GIT/quant-strategies/data/PnL/\" + factor + \".csv\")"
   ]
  }
 ],
 "metadata": {
  "kernelspec": {
   "display_name": "Python 3",
   "language": "python",
   "name": "python3"
  },
  "language_info": {
   "codemirror_mode": {
    "name": "ipython",
    "version": 3
   },
   "file_extension": ".py",
   "mimetype": "text/x-python",
   "name": "python",
   "nbconvert_exporter": "python",
   "pygments_lexer": "ipython3",
   "version": "3.10.11"
  },
  "orig_nbformat": 4
 },
 "nbformat": 4,
 "nbformat_minor": 2
}
