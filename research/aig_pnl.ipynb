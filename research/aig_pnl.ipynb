{
 "cells": [
  {
   "cell_type": "code",
   "execution_count": 77,
   "metadata": {},
   "outputs": [],
   "source": [
    "import matplotlib.pyplot as plt\n",
    "import numpy as np\n",
    "import pandas as pd"
   ]
  },
  {
   "cell_type": "code",
   "execution_count": 60,
   "metadata": {},
   "outputs": [],
   "source": [
    "pnl_df = pd.read_csv(\"Data.csv\", skiprows=2)\n",
    "pnl_df[\"Position Return.4\"] = pnl_df[\"Position Return.4\"].str.rstrip('%').astype(float) / 100\n",
    "pnl_df[\"Position Return.5\"] = pnl_df[\"Position Return.5\"].str.rstrip('%').astype(float) / 100\n",
    "pnl_df[\"PR_Model_1.1\"] = (pnl_df[\"Position Return.4\"] + pnl_df[\"Position Return.5\"]) / 2\n",
    "\n",
    "pnl_df[\"Total Return.4\"] = pnl_df[\"Total Return.4\"].str.rstrip('%').astype(float) / 100\n",
    "pnl_df[\"Total Return.5\"] = pnl_df[\"Total Return.5\"].str.rstrip('%').astype(float) / 100\n",
    "pnl_df[\"TR_Model_1.1\"] = (pnl_df[\"Total Return.4\"] + pnl_df[\"Total Return.5\"]) / 2\n",
    "pnl_df[\"Date.5\"] = pd.to_datetime(pnl_df[\"Date.5\"], format=\"%m/%d/%Y\")"
   ]
  },
  {
   "cell_type": "code",
   "execution_count": 61,
   "metadata": {},
   "outputs": [
    {
     "data": {
      "text/html": [
       "<div>\n",
       "<style scoped>\n",
       "    .dataframe tbody tr th:only-of-type {\n",
       "        vertical-align: middle;\n",
       "    }\n",
       "\n",
       "    .dataframe tbody tr th {\n",
       "        vertical-align: top;\n",
       "    }\n",
       "\n",
       "    .dataframe thead th {\n",
       "        text-align: right;\n",
       "    }\n",
       "</style>\n",
       "<table border=\"1\" class=\"dataframe\">\n",
       "  <thead>\n",
       "    <tr style=\"text-align: right;\">\n",
       "      <th></th>\n",
       "      <th>Date</th>\n",
       "      <th>Position Return</th>\n",
       "      <th>Total Return</th>\n",
       "      <th>Date.1</th>\n",
       "      <th>Position Return.1</th>\n",
       "      <th>Total Return.1</th>\n",
       "      <th>Date.2</th>\n",
       "      <th>Position Return.2</th>\n",
       "      <th>Total Return.2</th>\n",
       "      <th>Date.3</th>\n",
       "      <th>Position Return.3</th>\n",
       "      <th>Total Return.3</th>\n",
       "      <th>Date.4</th>\n",
       "      <th>Position Return.4</th>\n",
       "      <th>Total Return.4</th>\n",
       "      <th>Date.5</th>\n",
       "      <th>Position Return.5</th>\n",
       "      <th>Total Return.5</th>\n",
       "      <th>PR_Model_1.1</th>\n",
       "      <th>TR_Model_1.1</th>\n",
       "    </tr>\n",
       "  </thead>\n",
       "  <tbody>\n",
       "    <tr>\n",
       "      <th>0</th>\n",
       "      <td>12/30/2009</td>\n",
       "      <td>0.00%</td>\n",
       "      <td>-0.06%</td>\n",
       "      <td>12/30/2009</td>\n",
       "      <td>0.00%</td>\n",
       "      <td>-0.06%</td>\n",
       "      <td>1/2/2007</td>\n",
       "      <td>0.00%</td>\n",
       "      <td>-0.06%</td>\n",
       "      <td>1/2/2007</td>\n",
       "      <td>0.00%</td>\n",
       "      <td>-0.06%</td>\n",
       "      <td>1/2/2007</td>\n",
       "      <td>0.0000</td>\n",
       "      <td>-0.0006</td>\n",
       "      <td>2007-01-02</td>\n",
       "      <td>0.0000</td>\n",
       "      <td>-0.0006</td>\n",
       "      <td>0.00000</td>\n",
       "      <td>-0.00060</td>\n",
       "    </tr>\n",
       "    <tr>\n",
       "      <th>1</th>\n",
       "      <td>12/31/2009</td>\n",
       "      <td>-0.13%</td>\n",
       "      <td>-0.13%</td>\n",
       "      <td>12/31/2009</td>\n",
       "      <td>0.17%</td>\n",
       "      <td>0.16%</td>\n",
       "      <td>1/3/2007</td>\n",
       "      <td>-0.11%</td>\n",
       "      <td>-0.11%</td>\n",
       "      <td>1/3/2007</td>\n",
       "      <td>-0.41%</td>\n",
       "      <td>-0.42%</td>\n",
       "      <td>1/3/2007</td>\n",
       "      <td>-0.0012</td>\n",
       "      <td>-0.0012</td>\n",
       "      <td>2007-01-03</td>\n",
       "      <td>-0.0064</td>\n",
       "      <td>-0.0064</td>\n",
       "      <td>-0.00380</td>\n",
       "      <td>-0.00380</td>\n",
       "    </tr>\n",
       "    <tr>\n",
       "      <th>2</th>\n",
       "      <td>1/4/2010</td>\n",
       "      <td>-0.37%</td>\n",
       "      <td>-0.38%</td>\n",
       "      <td>1/4/2010</td>\n",
       "      <td>-0.12%</td>\n",
       "      <td>-0.13%</td>\n",
       "      <td>1/4/2007</td>\n",
       "      <td>0.08%</td>\n",
       "      <td>0.08%</td>\n",
       "      <td>1/4/2007</td>\n",
       "      <td>-0.25%</td>\n",
       "      <td>-0.25%</td>\n",
       "      <td>1/4/2007</td>\n",
       "      <td>0.0035</td>\n",
       "      <td>0.0034</td>\n",
       "      <td>2007-01-04</td>\n",
       "      <td>-0.0041</td>\n",
       "      <td>-0.0041</td>\n",
       "      <td>-0.00030</td>\n",
       "      <td>-0.00035</td>\n",
       "    </tr>\n",
       "    <tr>\n",
       "      <th>3</th>\n",
       "      <td>1/5/2010</td>\n",
       "      <td>-0.64%</td>\n",
       "      <td>-0.64%</td>\n",
       "      <td>1/5/2010</td>\n",
       "      <td>-1.01%</td>\n",
       "      <td>-1.01%</td>\n",
       "      <td>1/5/2007</td>\n",
       "      <td>-0.24%</td>\n",
       "      <td>-0.24%</td>\n",
       "      <td>1/5/2007</td>\n",
       "      <td>-0.17%</td>\n",
       "      <td>-0.17%</td>\n",
       "      <td>1/5/2007</td>\n",
       "      <td>-0.0012</td>\n",
       "      <td>-0.0012</td>\n",
       "      <td>2007-01-05</td>\n",
       "      <td>-0.0002</td>\n",
       "      <td>-0.0002</td>\n",
       "      <td>-0.00070</td>\n",
       "      <td>-0.00070</td>\n",
       "    </tr>\n",
       "    <tr>\n",
       "      <th>4</th>\n",
       "      <td>1/6/2010</td>\n",
       "      <td>-0.92%</td>\n",
       "      <td>-0.93%</td>\n",
       "      <td>1/6/2010</td>\n",
       "      <td>-0.62%</td>\n",
       "      <td>-0.65%</td>\n",
       "      <td>1/8/2007</td>\n",
       "      <td>0.44%</td>\n",
       "      <td>0.43%</td>\n",
       "      <td>1/8/2007</td>\n",
       "      <td>0.12%</td>\n",
       "      <td>0.12%</td>\n",
       "      <td>1/8/2007</td>\n",
       "      <td>0.0041</td>\n",
       "      <td>0.0041</td>\n",
       "      <td>2007-01-08</td>\n",
       "      <td>0.0010</td>\n",
       "      <td>0.0010</td>\n",
       "      <td>0.00255</td>\n",
       "      <td>0.00255</td>\n",
       "    </tr>\n",
       "  </tbody>\n",
       "</table>\n",
       "</div>"
      ],
      "text/plain": [
       "         Date Position Return Total Return      Date.1 Position Return.1   \n",
       "0  12/30/2009           0.00%       -0.06%  12/30/2009             0.00%  \\\n",
       "1  12/31/2009          -0.13%       -0.13%  12/31/2009             0.17%   \n",
       "2    1/4/2010          -0.37%       -0.38%    1/4/2010            -0.12%   \n",
       "3    1/5/2010          -0.64%       -0.64%    1/5/2010            -1.01%   \n",
       "4    1/6/2010          -0.92%       -0.93%    1/6/2010            -0.62%   \n",
       "\n",
       "  Total Return.1    Date.2 Position Return.2 Total Return.2    Date.3   \n",
       "0         -0.06%  1/2/2007             0.00%         -0.06%  1/2/2007  \\\n",
       "1          0.16%  1/3/2007            -0.11%         -0.11%  1/3/2007   \n",
       "2         -0.13%  1/4/2007             0.08%          0.08%  1/4/2007   \n",
       "3         -1.01%  1/5/2007            -0.24%         -0.24%  1/5/2007   \n",
       "4         -0.65%  1/8/2007             0.44%          0.43%  1/8/2007   \n",
       "\n",
       "  Position Return.3 Total Return.3    Date.4  Position Return.4   \n",
       "0             0.00%         -0.06%  1/2/2007             0.0000  \\\n",
       "1            -0.41%         -0.42%  1/3/2007            -0.0012   \n",
       "2            -0.25%         -0.25%  1/4/2007             0.0035   \n",
       "3            -0.17%         -0.17%  1/5/2007            -0.0012   \n",
       "4             0.12%          0.12%  1/8/2007             0.0041   \n",
       "\n",
       "   Total Return.4     Date.5  Position Return.5  Total Return.5  PR_Model_1.1   \n",
       "0         -0.0006 2007-01-02             0.0000         -0.0006       0.00000  \\\n",
       "1         -0.0012 2007-01-03            -0.0064         -0.0064      -0.00380   \n",
       "2          0.0034 2007-01-04            -0.0041         -0.0041      -0.00030   \n",
       "3         -0.0012 2007-01-05            -0.0002         -0.0002      -0.00070   \n",
       "4          0.0041 2007-01-08             0.0010          0.0010       0.00255   \n",
       "\n",
       "   TR_Model_1.1  \n",
       "0      -0.00060  \n",
       "1      -0.00380  \n",
       "2      -0.00035  \n",
       "3      -0.00070  \n",
       "4       0.00255  "
      ]
     },
     "execution_count": 61,
     "metadata": {},
     "output_type": "execute_result"
    }
   ],
   "source": [
    "pnl_df.head()"
   ]
  },
  {
   "cell_type": "code",
   "execution_count": 62,
   "metadata": {},
   "outputs": [
    {
     "data": {
      "text/plain": [
       "0.075019181881211"
      ]
     },
     "execution_count": 62,
     "metadata": {},
     "output_type": "execute_result"
    }
   ],
   "source": [
    "np.mean(pnl_df[\"TR_Model_1.1\"]) * 256"
   ]
  },
  {
   "cell_type": "code",
   "execution_count": 63,
   "metadata": {},
   "outputs": [
    {
     "data": {
      "text/plain": [
       "0.07864747708776512"
      ]
     },
     "execution_count": 63,
     "metadata": {},
     "output_type": "execute_result"
    }
   ],
   "source": [
    "np.std(pnl_df[\"TR_Model_1.1\"]) * 16"
   ]
  },
  {
   "cell_type": "code",
   "execution_count": 64,
   "metadata": {},
   "outputs": [
    {
     "data": {
      "text/plain": [
       "0.9538663496795301"
      ]
     },
     "execution_count": 64,
     "metadata": {},
     "output_type": "execute_result"
    }
   ],
   "source": [
    "16 * np.mean(pnl_df[\"TR_Model_1.1\"]) / np.std(pnl_df[\"TR_Model_1.1\"])"
   ]
  },
  {
   "cell_type": "code",
   "execution_count": 79,
   "metadata": {},
   "outputs": [
    {
     "data": {
      "text/plain": [
       "[<matplotlib.lines.Line2D at 0x7fd012365e10>]"
      ]
     },
     "execution_count": 79,
     "metadata": {},
     "output_type": "execute_result"
    },
    {
     "data": {
      "image/png": "[encoded data removed]",
      "text/plain": [
       "<Figure size 640x480 with 1 Axes>"
      ]
     },
     "metadata": {},
     "output_type": "display_data"
    }
   ],
   "source": [
    "plt.plot(pnl_df[\"Date.5\"], np.cumprod(pnl_df[\"TR_Model_1.1\"] + 1) - 1)"
   ]
  },
  {
   "cell_type": "code",
   "execution_count": 68,
   "metadata": {},
   "outputs": [
    {
     "data": {
      "text/plain": [
       "0.5657499422232494"
      ]
     },
     "execution_count": 68,
     "metadata": {},
     "output_type": "execute_result"
    }
   ],
   "source": [
    "len(pnl_df[pnl_df[\"TR_Model_1.1\"] >= 0]) / len(pnl_df)"
   ]
  },
  {
   "cell_type": "code",
   "execution_count": 65,
   "metadata": {},
   "outputs": [
    {
     "data": {
      "text/plain": [
       "0.0033858047385620918"
      ]
     },
     "execution_count": 65,
     "metadata": {},
     "output_type": "execute_result"
    }
   ],
   "source": [
    "np.mean(pnl_df[pnl_df[\"TR_Model_1.1\"] >= 0][\"TR_Model_1.1\"])"
   ]
  },
  {
   "cell_type": "code",
   "execution_count": 66,
   "metadata": {},
   "outputs": [
    {
     "data": {
      "text/plain": [
       "-0.00373626929217669"
      ]
     },
     "execution_count": 66,
     "metadata": {},
     "output_type": "execute_result"
    }
   ],
   "source": [
    "np.mean(pnl_df[pnl_df[\"TR_Model_1.1\"] < 0][\"TR_Model_1.1\"])"
   ]
  },
  {
   "cell_type": "code",
   "execution_count": 69,
   "metadata": {},
   "outputs": [],
   "source": [
    "monthly_pnl_df = pnl_df.groupby(by=[pnl_df[\"Date.5\"].dt.year, pnl_df[\"Date.5\"].dt.month]).agg({\"TR_Model_1.1\": \"sum\"})\n",
    "monthly_pnl_df.head()"
   ]
  },
  {
   "cell_type": "code",
   "execution_count": 71,
   "metadata": {},
   "outputs": [
    {
     "data": {
      "text/plain": [
       "-0.08290000000000002"
      ]
     },
     "execution_count": 71,
     "metadata": {},
     "output_type": "execute_result"
    }
   ],
   "source": [
    "monthly_pnl_df[\"TR_Model_1.1\"].min()"
   ]
  },
  {
   "cell_type": "code",
   "execution_count": 72,
   "metadata": {},
   "outputs": [
    {
     "data": {
      "text/plain": [
       "0.09045786919343657"
      ]
     },
     "execution_count": 72,
     "metadata": {},
     "output_type": "execute_result"
    }
   ],
   "source": [
    "np.mean(pnl_df[\"PR_Model_1.1\"]) * 256"
   ]
  },
  {
   "cell_type": "code",
   "execution_count": 73,
   "metadata": {},
   "outputs": [
    {
     "data": {
      "text/plain": [
       "0.07870432397677264"
      ]
     },
     "execution_count": 73,
     "metadata": {},
     "output_type": "execute_result"
    }
   ],
   "source": [
    "np.std(pnl_df[\"PR_Model_1.1\"]) * 16"
   ]
  },
  {
   "cell_type": "code",
   "execution_count": 74,
   "metadata": {},
   "outputs": [
    {
     "data": {
      "text/plain": [
       "1.1493379858028214"
      ]
     },
     "execution_count": 74,
     "metadata": {},
     "output_type": "execute_result"
    }
   ],
   "source": [
    "16 * np.mean(pnl_df[\"PR_Model_1.1\"]) / np.std(pnl_df[\"PR_Model_1.1\"])"
   ]
  },
  {
   "cell_type": "code",
   "execution_count": 81,
   "metadata": {},
   "outputs": [
    {
     "data": {
      "text/html": [
       "<div>\n",
       "<style scoped>\n",
       "    .dataframe tbody tr th:only-of-type {\n",
       "        vertical-align: middle;\n",
       "    }\n",
       "\n",
       "    .dataframe tbody tr th {\n",
       "        vertical-align: top;\n",
       "    }\n",
       "\n",
       "    .dataframe thead th {\n",
       "        text-align: right;\n",
       "    }\n",
       "</style>\n",
       "<table border=\"1\" class=\"dataframe\">\n",
       "  <thead>\n",
       "    <tr style=\"text-align: right;\">\n",
       "      <th></th>\n",
       "      <th>TR_Model_1.1</th>\n",
       "    </tr>\n",
       "    <tr>\n",
       "      <th>Date.5</th>\n",
       "      <th></th>\n",
       "    </tr>\n",
       "  </thead>\n",
       "  <tbody>\n",
       "    <tr>\n",
       "      <th>2007</th>\n",
       "      <td>0.19490</td>\n",
       "    </tr>\n",
       "    <tr>\n",
       "      <th>2008</th>\n",
       "      <td>0.16450</td>\n",
       "    </tr>\n",
       "    <tr>\n",
       "      <th>2009</th>\n",
       "      <td>-0.11320</td>\n",
       "    </tr>\n",
       "    <tr>\n",
       "      <th>2010</th>\n",
       "      <td>0.08220</td>\n",
       "    </tr>\n",
       "    <tr>\n",
       "      <th>2011</th>\n",
       "      <td>0.17950</td>\n",
       "    </tr>\n",
       "    <tr>\n",
       "      <th>2012</th>\n",
       "      <td>0.06960</td>\n",
       "    </tr>\n",
       "    <tr>\n",
       "      <th>2013</th>\n",
       "      <td>0.05550</td>\n",
       "    </tr>\n",
       "    <tr>\n",
       "      <th>2014</th>\n",
       "      <td>0.06840</td>\n",
       "    </tr>\n",
       "    <tr>\n",
       "      <th>2015</th>\n",
       "      <td>0.13900</td>\n",
       "    </tr>\n",
       "    <tr>\n",
       "      <th>2016</th>\n",
       "      <td>-0.00735</td>\n",
       "    </tr>\n",
       "    <tr>\n",
       "      <th>2017</th>\n",
       "      <td>0.12530</td>\n",
       "    </tr>\n",
       "    <tr>\n",
       "      <th>2018</th>\n",
       "      <td>0.07440</td>\n",
       "    </tr>\n",
       "    <tr>\n",
       "      <th>2019</th>\n",
       "      <td>0.04010</td>\n",
       "    </tr>\n",
       "    <tr>\n",
       "      <th>2020</th>\n",
       "      <td>0.01385</td>\n",
       "    </tr>\n",
       "    <tr>\n",
       "      <th>2021</th>\n",
       "      <td>0.14215</td>\n",
       "    </tr>\n",
       "    <tr>\n",
       "      <th>2022</th>\n",
       "      <td>0.04325</td>\n",
       "    </tr>\n",
       "    <tr>\n",
       "      <th>2023</th>\n",
       "      <td>-0.00410</td>\n",
       "    </tr>\n",
       "  </tbody>\n",
       "</table>\n",
       "</div>"
      ],
      "text/plain": [
       "        TR_Model_1.1\n",
       "Date.5              \n",
       "2007         0.19490\n",
       "2008         0.16450\n",
       "2009        -0.11320\n",
       "2010         0.08220\n",
       "2011         0.17950\n",
       "2012         0.06960\n",
       "2013         0.05550\n",
       "2014         0.06840\n",
       "2015         0.13900\n",
       "2016        -0.00735\n",
       "2017         0.12530\n",
       "2018         0.07440\n",
       "2019         0.04010\n",
       "2020         0.01385\n",
       "2021         0.14215\n",
       "2022         0.04325\n",
       "2023        -0.00410"
      ]
     },
     "execution_count": 81,
     "metadata": {},
     "output_type": "execute_result"
    }
   ],
   "source": [
    "annual_pnl_df = pnl_df.groupby(by=[pnl_df[\"Date.5\"].dt.year]).agg({\"TR_Model_1.1\": \"sum\"})\n",
    "annual_pnl_df"
   ]
  },
  {
   "cell_type": "code",
   "execution_count": 86,
   "metadata": {},
   "outputs": [
    {
     "data": {
      "text/plain": [
       "0.5078113801302431"
      ]
     },
     "execution_count": 86,
     "metadata": {},
     "output_type": "execute_result"
    }
   ],
   "source": [
    "16 * np.mean(pnl_df[(pnl_df[\"Date.5\"] > '2020')][\"TR_Model_1.1\"]) / np.std(pnl_df[(pnl_df[\"Date.5\"] > '2020')][\"TR_Model_1.1\"])"
   ]
  },
  {
   "cell_type": "code",
   "execution_count": 88,
   "metadata": {},
   "outputs": [],
   "source": [
    "pnl_df[\"CTR_Model_1.1\"] = np.cumprod(pnl_df[\"TR_Model_1.1\"] + 1) - 1"
   ]
  },
  {
   "cell_type": "code",
   "execution_count": 91,
   "metadata": {},
   "outputs": [],
   "source": [
    "pnl_df[\"HWM_Model_1.1\"] = pnl_df[\"CTR_Model_1.1\"].cummax()"
   ]
  },
  {
   "cell_type": "code",
   "execution_count": 93,
   "metadata": {},
   "outputs": [],
   "source": [
    "pnl_df[\"DW_Model_1.1\"] = pnl_df[\"HWM_Model_1.1\"] - pnl_df[\"CTR_Model_1.1\"]"
   ]
  },
  {
   "cell_type": "code",
   "execution_count": 94,
   "metadata": {},
   "outputs": [
    {
     "data": {
      "text/html": [
       "<div>\n",
       "<style scoped>\n",
       "    .dataframe tbody tr th:only-of-type {\n",
       "        vertical-align: middle;\n",
       "    }\n",
       "\n",
       "    .dataframe tbody tr th {\n",
       "        vertical-align: top;\n",
       "    }\n",
       "\n",
       "    .dataframe thead th {\n",
       "        text-align: right;\n",
       "    }\n",
       "</style>\n",
       "<table border=\"1\" class=\"dataframe\">\n",
       "  <thead>\n",
       "    <tr style=\"text-align: right;\">\n",
       "      <th></th>\n",
       "      <th>Date</th>\n",
       "      <th>Position Return</th>\n",
       "      <th>Total Return</th>\n",
       "      <th>Date.1</th>\n",
       "      <th>Position Return.1</th>\n",
       "      <th>Total Return.1</th>\n",
       "      <th>Date.2</th>\n",
       "      <th>Position Return.2</th>\n",
       "      <th>Total Return.2</th>\n",
       "      <th>Date.3</th>\n",
       "      <th>...</th>\n",
       "      <th>Position Return.4</th>\n",
       "      <th>Total Return.4</th>\n",
       "      <th>Date.5</th>\n",
       "      <th>Position Return.5</th>\n",
       "      <th>Total Return.5</th>\n",
       "      <th>PR_Model_1.1</th>\n",
       "      <th>TR_Model_1.1</th>\n",
       "      <th>CTR_Model_1.1</th>\n",
       "      <th>HWM_Model_1.1</th>\n",
       "      <th>DW_Model_1.1</th>\n",
       "    </tr>\n",
       "  </thead>\n",
       "  <tbody>\n",
       "    <tr>\n",
       "      <th>0</th>\n",
       "      <td>12/30/2009</td>\n",
       "      <td>0.00%</td>\n",
       "      <td>-0.06%</td>\n",
       "      <td>12/30/2009</td>\n",
       "      <td>0.00%</td>\n",
       "      <td>-0.06%</td>\n",
       "      <td>1/2/2007</td>\n",
       "      <td>0.00%</td>\n",
       "      <td>-0.06%</td>\n",
       "      <td>1/2/2007</td>\n",
       "      <td>...</td>\n",
       "      <td>0.0000</td>\n",
       "      <td>-0.0006</td>\n",
       "      <td>2007-01-02</td>\n",
       "      <td>0.0000</td>\n",
       "      <td>-0.0006</td>\n",
       "      <td>0.00000</td>\n",
       "      <td>-0.00060</td>\n",
       "      <td>-0.000600</td>\n",
       "      <td>-0.0006</td>\n",
       "      <td>0.000000</td>\n",
       "    </tr>\n",
       "    <tr>\n",
       "      <th>1</th>\n",
       "      <td>12/31/2009</td>\n",
       "      <td>-0.13%</td>\n",
       "      <td>-0.13%</td>\n",
       "      <td>12/31/2009</td>\n",
       "      <td>0.17%</td>\n",
       "      <td>0.16%</td>\n",
       "      <td>1/3/2007</td>\n",
       "      <td>-0.11%</td>\n",
       "      <td>-0.11%</td>\n",
       "      <td>1/3/2007</td>\n",
       "      <td>...</td>\n",
       "      <td>-0.0012</td>\n",
       "      <td>-0.0012</td>\n",
       "      <td>2007-01-03</td>\n",
       "      <td>-0.0064</td>\n",
       "      <td>-0.0064</td>\n",
       "      <td>-0.00380</td>\n",
       "      <td>-0.00380</td>\n",
       "      <td>-0.004398</td>\n",
       "      <td>-0.0006</td>\n",
       "      <td>0.003798</td>\n",
       "    </tr>\n",
       "    <tr>\n",
       "      <th>2</th>\n",
       "      <td>1/4/2010</td>\n",
       "      <td>-0.37%</td>\n",
       "      <td>-0.38%</td>\n",
       "      <td>1/4/2010</td>\n",
       "      <td>-0.12%</td>\n",
       "      <td>-0.13%</td>\n",
       "      <td>1/4/2007</td>\n",
       "      <td>0.08%</td>\n",
       "      <td>0.08%</td>\n",
       "      <td>1/4/2007</td>\n",
       "      <td>...</td>\n",
       "      <td>0.0035</td>\n",
       "      <td>0.0034</td>\n",
       "      <td>2007-01-04</td>\n",
       "      <td>-0.0041</td>\n",
       "      <td>-0.0041</td>\n",
       "      <td>-0.00030</td>\n",
       "      <td>-0.00035</td>\n",
       "      <td>-0.004746</td>\n",
       "      <td>-0.0006</td>\n",
       "      <td>0.004146</td>\n",
       "    </tr>\n",
       "    <tr>\n",
       "      <th>3</th>\n",
       "      <td>1/5/2010</td>\n",
       "      <td>-0.64%</td>\n",
       "      <td>-0.64%</td>\n",
       "      <td>1/5/2010</td>\n",
       "      <td>-1.01%</td>\n",
       "      <td>-1.01%</td>\n",
       "      <td>1/5/2007</td>\n",
       "      <td>-0.24%</td>\n",
       "      <td>-0.24%</td>\n",
       "      <td>1/5/2007</td>\n",
       "      <td>...</td>\n",
       "      <td>-0.0012</td>\n",
       "      <td>-0.0012</td>\n",
       "      <td>2007-01-05</td>\n",
       "      <td>-0.0002</td>\n",
       "      <td>-0.0002</td>\n",
       "      <td>-0.00070</td>\n",
       "      <td>-0.00070</td>\n",
       "      <td>-0.005443</td>\n",
       "      <td>-0.0006</td>\n",
       "      <td>0.004843</td>\n",
       "    </tr>\n",
       "    <tr>\n",
       "      <th>4</th>\n",
       "      <td>1/6/2010</td>\n",
       "      <td>-0.92%</td>\n",
       "      <td>-0.93%</td>\n",
       "      <td>1/6/2010</td>\n",
       "      <td>-0.62%</td>\n",
       "      <td>-0.65%</td>\n",
       "      <td>1/8/2007</td>\n",
       "      <td>0.44%</td>\n",
       "      <td>0.43%</td>\n",
       "      <td>1/8/2007</td>\n",
       "      <td>...</td>\n",
       "      <td>0.0041</td>\n",
       "      <td>0.0041</td>\n",
       "      <td>2007-01-08</td>\n",
       "      <td>0.0010</td>\n",
       "      <td>0.0010</td>\n",
       "      <td>0.00255</td>\n",
       "      <td>0.00255</td>\n",
       "      <td>-0.002907</td>\n",
       "      <td>-0.0006</td>\n",
       "      <td>0.002307</td>\n",
       "    </tr>\n",
       "  </tbody>\n",
       "</table>\n",
       "<p>5 rows × 23 columns</p>\n",
       "</div>"
      ],
      "text/plain": [
       "         Date Position Return Total Return      Date.1 Position Return.1   \n",
       "0  12/30/2009           0.00%       -0.06%  12/30/2009             0.00%  \\\n",
       "1  12/31/2009          -0.13%       -0.13%  12/31/2009             0.17%   \n",
       "2    1/4/2010          -0.37%       -0.38%    1/4/2010            -0.12%   \n",
       "3    1/5/2010          -0.64%       -0.64%    1/5/2010            -1.01%   \n",
       "4    1/6/2010          -0.92%       -0.93%    1/6/2010            -0.62%   \n",
       "\n",
       "  Total Return.1    Date.2 Position Return.2 Total Return.2    Date.3  ...   \n",
       "0         -0.06%  1/2/2007             0.00%         -0.06%  1/2/2007  ...  \\\n",
       "1          0.16%  1/3/2007            -0.11%         -0.11%  1/3/2007  ...   \n",
       "2         -0.13%  1/4/2007             0.08%          0.08%  1/4/2007  ...   \n",
       "3         -1.01%  1/5/2007            -0.24%         -0.24%  1/5/2007  ...   \n",
       "4         -0.65%  1/8/2007             0.44%          0.43%  1/8/2007  ...   \n",
       "\n",
       "  Position Return.4 Total Return.4     Date.5  Position Return.5   \n",
       "0            0.0000        -0.0006 2007-01-02             0.0000  \\\n",
       "1           -0.0012        -0.0012 2007-01-03            -0.0064   \n",
       "2            0.0035         0.0034 2007-01-04            -0.0041   \n",
       "3           -0.0012        -0.0012 2007-01-05            -0.0002   \n",
       "4            0.0041         0.0041 2007-01-08             0.0010   \n",
       "\n",
       "   Total Return.5 PR_Model_1.1  TR_Model_1.1  CTR_Model_1.1  HWM_Model_1.1   \n",
       "0         -0.0006      0.00000      -0.00060      -0.000600        -0.0006  \\\n",
       "1         -0.0064     -0.00380      -0.00380      -0.004398        -0.0006   \n",
       "2         -0.0041     -0.00030      -0.00035      -0.004746        -0.0006   \n",
       "3         -0.0002     -0.00070      -0.00070      -0.005443        -0.0006   \n",
       "4          0.0010      0.00255       0.00255      -0.002907        -0.0006   \n",
       "\n",
       "   DW_Model_1.1  \n",
       "0      0.000000  \n",
       "1      0.003798  \n",
       "2      0.004146  \n",
       "3      0.004843  \n",
       "4      0.002307  \n",
       "\n",
       "[5 rows x 23 columns]"
      ]
     },
     "execution_count": 94,
     "metadata": {},
     "output_type": "execute_result"
    }
   ],
   "source": [
    "pnl_df.head()"
   ]
  },
  {
   "cell_type": "code",
   "execution_count": 95,
   "metadata": {},
   "outputs": [
    {
     "data": {
      "text/plain": [
       "0.46361380274901887"
      ]
     },
     "execution_count": 95,
     "metadata": {},
     "output_type": "execute_result"
    }
   ],
   "source": [
    "pnl_df[\"DW_Model_1.1\"].max()"
   ]
  }
 ],
 "metadata": {
  "kernelspec": {
   "display_name": "Python 3",
   "language": "python",
   "name": "python3"
  },
  "language_info": {
   "codemirror_mode": {
    "name": "ipython",
    "version": 3
   },
   "file_extension": ".py",
   "mimetype": "text/x-python",
   "name": "python",
   "nbconvert_exporter": "python",
   "pygments_lexer": "ipython3",
   "version": "3.10.11"
  },
  "orig_nbformat": 4
 },
 "nbformat": 4,
 "nbformat_minor": 2
}
