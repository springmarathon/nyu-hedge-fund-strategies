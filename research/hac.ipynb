{
 "cells": [
  {
   "cell_type": "code",
   "execution_count": 151,
   "metadata": {},
   "outputs": [],
   "source": [
    "# HAC: heterroskedasticity and autocorrelation corrected standard errors\n",
    "# https://www.youtube.com/watch?v=hKyg1pGDmj0\n",
    "import itertools\n",
    "import numpy as np\n",
    "import pandas as pd\n",
    "import scipy.stats as stats"
   ]
  },
  {
   "cell_type": "code",
   "execution_count": 98,
   "metadata": {},
   "outputs": [
    {
     "data": {
      "text/html": [
       "<div>\n",
       "<style scoped>\n",
       "    .dataframe tbody tr th:only-of-type {\n",
       "        vertical-align: middle;\n",
       "    }\n",
       "\n",
       "    .dataframe tbody tr th {\n",
       "        vertical-align: top;\n",
       "    }\n",
       "\n",
       "    .dataframe thead th {\n",
       "        text-align: right;\n",
       "    }\n",
       "</style>\n",
       "<table border=\"1\" class=\"dataframe\">\n",
       "  <thead>\n",
       "    <tr style=\"text-align: right;\">\n",
       "      <th></th>\n",
       "      <th>Dates</th>\n",
       "      <th>Exxon Mobil</th>\n",
       "      <th>Constant</th>\n",
       "      <th>S&amp;P 500</th>\n",
       "      <th>Oil</th>\n",
       "    </tr>\n",
       "  </thead>\n",
       "  <tbody>\n",
       "    <tr>\n",
       "      <th>0</th>\n",
       "      <td>1/3/2022</td>\n",
       "      <td>0.038405</td>\n",
       "      <td>1</td>\n",
       "      <td>0.005790</td>\n",
       "      <td>0.011598</td>\n",
       "    </tr>\n",
       "    <tr>\n",
       "      <th>1</th>\n",
       "      <td>1/4/2022</td>\n",
       "      <td>0.037614</td>\n",
       "      <td>1</td>\n",
       "      <td>-0.000335</td>\n",
       "      <td>0.011912</td>\n",
       "    </tr>\n",
       "    <tr>\n",
       "      <th>2</th>\n",
       "      <td>1/5/2022</td>\n",
       "      <td>0.012437</td>\n",
       "      <td>1</td>\n",
       "      <td>-0.019202</td>\n",
       "      <td>0.011183</td>\n",
       "    </tr>\n",
       "    <tr>\n",
       "      <th>3</th>\n",
       "      <td>1/6/2022</td>\n",
       "      <td>0.023521</td>\n",
       "      <td>1</td>\n",
       "      <td>-0.000939</td>\n",
       "      <td>0.020664</td>\n",
       "    </tr>\n",
       "    <tr>\n",
       "      <th>4</th>\n",
       "      <td>1/7/2022</td>\n",
       "      <td>0.008197</td>\n",
       "      <td>1</td>\n",
       "      <td>-0.003953</td>\n",
       "      <td>-0.006986</td>\n",
       "    </tr>\n",
       "  </tbody>\n",
       "</table>\n",
       "</div>"
      ],
      "text/plain": [
       "      Dates  Exxon Mobil  Constant   S&P 500       Oil\n",
       "0  1/3/2022     0.038405         1  0.005790  0.011598\n",
       "1  1/4/2022     0.037614         1 -0.000335  0.011912\n",
       "2  1/5/2022     0.012437         1 -0.019202  0.011183\n",
       "3  1/6/2022     0.023521         1 -0.000939  0.020664\n",
       "4  1/7/2022     0.008197         1 -0.003953 -0.006986"
      ]
     },
     "execution_count": 98,
     "metadata": {},
     "output_type": "execute_result"
    }
   ],
   "source": [
    "path = \"/Users/weizhang/Documents/_GIT/quant-strategies/data/HAC.csv\"\n",
    "data = pd.read_csv(path)\n",
    "data.head()"
   ]
  },
  {
   "cell_type": "code",
   "execution_count": 100,
   "metadata": {},
   "outputs": [],
   "source": [
    "X = data[[\"Constant\", \"S&P 500\", \"Oil\"]]\n",
    "y = data[\"Exxon Mobil\"]"
   ]
  },
  {
   "cell_type": "code",
   "execution_count": 116,
   "metadata": {},
   "outputs": [],
   "source": [
    "coeff = np.matmul(np.matmul(np.linalg.inv(np.matmul(np.transpose(X), X)), np.transpose(X)), y)"
   ]
  },
  {
   "cell_type": "code",
   "execution_count": 104,
   "metadata": {},
   "outputs": [],
   "source": [
    "data[\"Expected\"] = np.matmul(X.to_numpy(), coeff)\n",
    "data[\"Residual\"] = data[\"Exxon Mobil\"] - data[\"Expected\"]"
   ]
  },
  {
   "cell_type": "code",
   "execution_count": 110,
   "metadata": {},
   "outputs": [],
   "source": [
    "T = X.shape[0]\n",
    "k = X.shape[1]\n",
    "df = T - k\n",
    "error = np.sqrt(np.sum(data[\"Residual\"] * data[\"Residual\"]) / df)\n",
    "variance = error ** 2 * np.linalg.inv(np.matmul(np.transpose(X), X))"
   ]
  },
  {
   "cell_type": "code",
   "execution_count": 115,
   "metadata": {},
   "outputs": [
    {
     "data": {
      "text/html": [
       "<div>\n",
       "<style scoped>\n",
       "    .dataframe tbody tr th:only-of-type {\n",
       "        vertical-align: middle;\n",
       "    }\n",
       "\n",
       "    .dataframe tbody tr th {\n",
       "        vertical-align: top;\n",
       "    }\n",
       "\n",
       "    .dataframe thead th {\n",
       "        text-align: right;\n",
       "    }\n",
       "</style>\n",
       "<table border=\"1\" class=\"dataframe\">\n",
       "  <thead>\n",
       "    <tr style=\"text-align: right;\">\n",
       "      <th></th>\n",
       "      <th>Coeff</th>\n",
       "      <th>S.E.</th>\n",
       "      <th>t-stat</th>\n",
       "      <th>p-value</th>\n",
       "    </tr>\n",
       "  </thead>\n",
       "  <tbody>\n",
       "    <tr>\n",
       "      <th>Constant</th>\n",
       "      <td>0.002959</td>\n",
       "      <td>0.002273</td>\n",
       "      <td>1.301674</td>\n",
       "      <td>1.980874e-01</td>\n",
       "    </tr>\n",
       "    <tr>\n",
       "      <th>S&amp;P 500</th>\n",
       "      <td>0.007967</td>\n",
       "      <td>0.172776</td>\n",
       "      <td>0.046112</td>\n",
       "      <td>9.633771e-01</td>\n",
       "    </tr>\n",
       "    <tr>\n",
       "      <th>Oil</th>\n",
       "      <td>0.385618</td>\n",
       "      <td>0.063753</td>\n",
       "      <td>6.048659</td>\n",
       "      <td>1.073621e-07</td>\n",
       "    </tr>\n",
       "  </tbody>\n",
       "</table>\n",
       "</div>"
      ],
      "text/plain": [
       "             Coeff      S.E.    t-stat       p-value\n",
       "Constant  0.002959  0.002273  1.301674  1.980874e-01\n",
       "S&P 500   0.007967  0.172776  0.046112  9.633771e-01\n",
       "Oil       0.385618  0.063753  6.048659  1.073621e-07"
      ]
     },
     "execution_count": 115,
     "metadata": {},
     "output_type": "execute_result"
    }
   ],
   "source": [
    "OLS = pd.DataFrame()\n",
    "OLS[\"Coeff\"] = coeff\n",
    "OLS.index = [\"Constant\", \"S&P 500\", \"Oil\"]\n",
    "OLS[\"S.E.\"] = [np.sqrt(variance[0][0]), np.sqrt(variance[1][1]), np.sqrt(variance[2][2])]\n",
    "OLS[\"t-stat\"] = OLS[\"Coeff\"] / OLS[\"S.E.\"]\n",
    "OLS[\"p-value\"] = [stats.t.sf(np.abs(OLS.loc[\"Constant\", \"t-stat\"]), df) * 2,\n",
    "                  stats.t.sf(np.abs(OLS.loc[\"S&P 500\", \"t-stat\"]), df) * 2,\n",
    "                  stats.t.sf(np.abs(OLS.loc[\"Oil\", \"t-stat\"]), df) * 2]\n",
    "OLS.head()"
   ]
  },
  {
   "cell_type": "code",
   "execution_count": 158,
   "metadata": {},
   "outputs": [],
   "source": [
    "lags = 3\n",
    "lags_formula = 4 * (T / 100) ** (2 / 9)"
   ]
  },
  {
   "cell_type": "code",
   "execution_count": 160,
   "metadata": {},
   "outputs": [],
   "source": [
    "weights = np.multiply(np.matmul(data[[\"Residual\"]], np.transpose(data[[\"Residual\"]])), np.array([max(1 - np.abs(i - j) / (lags + 1), 0) for i, j in itertools.product(np.arange(T), np.arange(T))]).reshape((T, T)))"
   ]
  },
  {
   "cell_type": "code",
   "execution_count": 166,
   "metadata": {},
   "outputs": [
    {
     "data": {
      "text/html": [
       "<div>\n",
       "<style scoped>\n",
       "    .dataframe tbody tr th:only-of-type {\n",
       "        vertical-align: middle;\n",
       "    }\n",
       "\n",
       "    .dataframe tbody tr th {\n",
       "        vertical-align: top;\n",
       "    }\n",
       "\n",
       "    .dataframe thead th {\n",
       "        text-align: right;\n",
       "    }\n",
       "</style>\n",
       "<table border=\"1\" class=\"dataframe\">\n",
       "  <thead>\n",
       "    <tr style=\"text-align: right;\">\n",
       "      <th></th>\n",
       "      <th>0</th>\n",
       "      <th>1</th>\n",
       "      <th>2</th>\n",
       "    </tr>\n",
       "  </thead>\n",
       "  <tbody>\n",
       "    <tr>\n",
       "      <th>0</th>\n",
       "      <td>0.000005</td>\n",
       "      <td>0.000084</td>\n",
       "      <td>-0.000018</td>\n",
       "    </tr>\n",
       "    <tr>\n",
       "      <th>1</th>\n",
       "      <td>0.000084</td>\n",
       "      <td>0.020865</td>\n",
       "      <td>-0.000563</td>\n",
       "    </tr>\n",
       "    <tr>\n",
       "      <th>2</th>\n",
       "      <td>-0.000018</td>\n",
       "      <td>-0.000563</td>\n",
       "      <td>0.002824</td>\n",
       "    </tr>\n",
       "  </tbody>\n",
       "</table>\n",
       "</div>"
      ],
      "text/plain": [
       "          0         1         2\n",
       "0  0.000005  0.000084 -0.000018\n",
       "1  0.000084  0.020865 -0.000563\n",
       "2 -0.000018 -0.000563  0.002824"
      ]
     },
     "execution_count": 166,
     "metadata": {},
     "output_type": "execute_result"
    }
   ],
   "source": [
    "np.matmul(np.matmul(np.linalg.inv(np.matmul(np.transpose(X), X)), np.matmul(np.matmul(np.transpose(X), weights), X)), np.linalg.inv(np.matmul(np.transpose(X), X)))"
   ]
  }
 ],
 "metadata": {
  "kernelspec": {
   "display_name": "Python 3",
   "language": "python",
   "name": "python3"
  },
  "language_info": {
   "codemirror_mode": {
    "name": "ipython",
    "version": 3
   },
   "file_extension": ".py",
   "mimetype": "text/x-python",
   "name": "python",
   "nbconvert_exporter": "python",
   "pygments_lexer": "ipython3",
   "version": "3.10.11"
  },
  "orig_nbformat": 4
 },
 "nbformat": 4,
 "nbformat_minor": 2
}
