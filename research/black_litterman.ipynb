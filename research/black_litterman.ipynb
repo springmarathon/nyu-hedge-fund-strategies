{
 "cells": [
  {
   "cell_type": "code",
   "execution_count": 121,
   "metadata": {},
   "outputs": [],
   "source": [
    "import nasdaqdatalink as quandl\n",
    "import numpy as np\n",
    "import pandas as pd\n",
    "from sklearn import linear_model"
   ]
  },
  {
   "cell_type": "code",
   "execution_count": 122,
   "metadata": {},
   "outputs": [],
   "source": [
    "quandl.ApiConfig.api_key = 'NRvcyMwNMXZ2ooDSM3nw'\n",
    "tickers = ['AMZN','WMT', 'HD', 'COST']"
   ]
  },
  {
   "cell_type": "code",
   "execution_count": 123,
   "metadata": {},
   "outputs": [
    {
     "data": {
      "text/html": [
       "<div>\n",
       "<style scoped>\n",
       "    .dataframe tbody tr th:only-of-type {\n",
       "        vertical-align: middle;\n",
       "    }\n",
       "\n",
       "    .dataframe tbody tr th {\n",
       "        vertical-align: top;\n",
       "    }\n",
       "\n",
       "    .dataframe thead th {\n",
       "        text-align: right;\n",
       "    }\n",
       "</style>\n",
       "<table border=\"1\" class=\"dataframe\">\n",
       "  <thead>\n",
       "    <tr style=\"text-align: right;\">\n",
       "      <th>ticker</th>\n",
       "      <th>AMZN</th>\n",
       "      <th>COST</th>\n",
       "      <th>HD</th>\n",
       "      <th>WMT</th>\n",
       "    </tr>\n",
       "    <tr>\n",
       "      <th>date</th>\n",
       "      <th></th>\n",
       "      <th></th>\n",
       "      <th></th>\n",
       "      <th></th>\n",
       "    </tr>\n",
       "  </thead>\n",
       "  <tbody>\n",
       "    <tr>\n",
       "      <th>2021-12-31</th>\n",
       "      <td>166.316</td>\n",
       "      <td>560.752</td>\n",
       "      <td>396.530</td>\n",
       "      <td>140.833</td>\n",
       "    </tr>\n",
       "    <tr>\n",
       "      <th>2022-01-03</th>\n",
       "      <td>169.995</td>\n",
       "      <td>559.775</td>\n",
       "      <td>390.444</td>\n",
       "      <td>140.794</td>\n",
       "    </tr>\n",
       "    <tr>\n",
       "      <th>2022-01-04</th>\n",
       "      <td>167.119</td>\n",
       "      <td>557.325</td>\n",
       "      <td>394.457</td>\n",
       "      <td>138.214</td>\n",
       "    </tr>\n",
       "    <tr>\n",
       "      <th>2022-01-05</th>\n",
       "      <td>163.962</td>\n",
       "      <td>543.190</td>\n",
       "      <td>389.106</td>\n",
       "      <td>140.083</td>\n",
       "    </tr>\n",
       "    <tr>\n",
       "      <th>2022-01-06</th>\n",
       "      <td>162.862</td>\n",
       "      <td>543.071</td>\n",
       "      <td>387.692</td>\n",
       "      <td>139.694</td>\n",
       "    </tr>\n",
       "  </tbody>\n",
       "</table>\n",
       "</div>"
      ],
      "text/plain": [
       "ticker         AMZN     COST       HD      WMT\n",
       "date                                          \n",
       "2021-12-31  166.316  560.752  396.530  140.833\n",
       "2022-01-03  169.995  559.775  390.444  140.794\n",
       "2022-01-04  167.119  557.325  394.457  138.214\n",
       "2022-01-05  163.962  543.190  389.106  140.083\n",
       "2022-01-06  162.862  543.071  387.692  139.694"
      ]
     },
     "execution_count": 123,
     "metadata": {},
     "output_type": "execute_result"
    }
   ],
   "source": [
    "prices = quandl.get_table('SHARADAR/SEP', ticker=tickers, date={'gte':'2021-12-31', 'lte':'2022-12-31'})\n",
    "prices.sort_values(by=[\"ticker\", \"date\"], ascending=[True, True], inplace=True)\n",
    "prices = prices.pivot(index='date', columns='ticker', values='closeadj')\n",
    "prices.head()\n"
   ]
  },
  {
   "cell_type": "code",
   "execution_count": 124,
   "metadata": {},
   "outputs": [
    {
     "data": {
      "text/html": [
       "<div>\n",
       "<style scoped>\n",
       "    .dataframe tbody tr th:only-of-type {\n",
       "        vertical-align: middle;\n",
       "    }\n",
       "\n",
       "    .dataframe tbody tr th {\n",
       "        vertical-align: top;\n",
       "    }\n",
       "\n",
       "    .dataframe thead th {\n",
       "        text-align: right;\n",
       "    }\n",
       "</style>\n",
       "<table border=\"1\" class=\"dataframe\">\n",
       "  <thead>\n",
       "    <tr style=\"text-align: right;\">\n",
       "      <th>ticker</th>\n",
       "      <th>AMZN</th>\n",
       "      <th>COST</th>\n",
       "      <th>HD</th>\n",
       "      <th>WMT</th>\n",
       "    </tr>\n",
       "    <tr>\n",
       "      <th>date</th>\n",
       "      <th></th>\n",
       "      <th></th>\n",
       "      <th></th>\n",
       "      <th></th>\n",
       "    </tr>\n",
       "  </thead>\n",
       "  <tbody>\n",
       "    <tr>\n",
       "      <th>2022-01-03</th>\n",
       "      <td>0.022121</td>\n",
       "      <td>-0.001742</td>\n",
       "      <td>-0.015348</td>\n",
       "      <td>-0.000277</td>\n",
       "    </tr>\n",
       "    <tr>\n",
       "      <th>2022-01-04</th>\n",
       "      <td>-0.016918</td>\n",
       "      <td>-0.004377</td>\n",
       "      <td>0.010278</td>\n",
       "      <td>-0.018325</td>\n",
       "    </tr>\n",
       "    <tr>\n",
       "      <th>2022-01-05</th>\n",
       "      <td>-0.018891</td>\n",
       "      <td>-0.025362</td>\n",
       "      <td>-0.013565</td>\n",
       "      <td>0.013523</td>\n",
       "    </tr>\n",
       "    <tr>\n",
       "      <th>2022-01-06</th>\n",
       "      <td>-0.006709</td>\n",
       "      <td>-0.000219</td>\n",
       "      <td>-0.003634</td>\n",
       "      <td>-0.002777</td>\n",
       "    </tr>\n",
       "    <tr>\n",
       "      <th>2022-01-07</th>\n",
       "      <td>-0.004292</td>\n",
       "      <td>-0.024772</td>\n",
       "      <td>-0.029944</td>\n",
       "      <td>0.009542</td>\n",
       "    </tr>\n",
       "  </tbody>\n",
       "</table>\n",
       "</div>"
      ],
      "text/plain": [
       "ticker          AMZN      COST        HD       WMT\n",
       "date                                              \n",
       "2022-01-03  0.022121 -0.001742 -0.015348 -0.000277\n",
       "2022-01-04 -0.016918 -0.004377  0.010278 -0.018325\n",
       "2022-01-05 -0.018891 -0.025362 -0.013565  0.013523\n",
       "2022-01-06 -0.006709 -0.000219 -0.003634 -0.002777\n",
       "2022-01-07 -0.004292 -0.024772 -0.029944  0.009542"
      ]
     },
     "execution_count": 124,
     "metadata": {},
     "output_type": "execute_result"
    }
   ],
   "source": [
    "returns = prices.pct_change().tail(-1)\n",
    "returns.head()"
   ]
  },
  {
   "cell_type": "code",
   "execution_count": 125,
   "metadata": {},
   "outputs": [
    {
     "data": {
      "text/html": [
       "<div>\n",
       "<style scoped>\n",
       "    .dataframe tbody tr th:only-of-type {\n",
       "        vertical-align: middle;\n",
       "    }\n",
       "\n",
       "    .dataframe tbody tr th {\n",
       "        vertical-align: top;\n",
       "    }\n",
       "\n",
       "    .dataframe thead th {\n",
       "        text-align: right;\n",
       "    }\n",
       "</style>\n",
       "<table border=\"1\" class=\"dataframe\">\n",
       "  <thead>\n",
       "    <tr style=\"text-align: right;\">\n",
       "      <th>ticker</th>\n",
       "      <th>AMZN</th>\n",
       "      <th>COST</th>\n",
       "      <th>HD</th>\n",
       "      <th>WMT</th>\n",
       "    </tr>\n",
       "    <tr>\n",
       "      <th>ticker</th>\n",
       "      <th></th>\n",
       "      <th></th>\n",
       "      <th></th>\n",
       "      <th></th>\n",
       "    </tr>\n",
       "  </thead>\n",
       "  <tbody>\n",
       "    <tr>\n",
       "      <th>AMZN</th>\n",
       "      <td>0.000995</td>\n",
       "      <td>0.000350</td>\n",
       "      <td>0.000354</td>\n",
       "      <td>0.000161</td>\n",
       "    </tr>\n",
       "    <tr>\n",
       "      <th>COST</th>\n",
       "      <td>0.000350</td>\n",
       "      <td>0.000390</td>\n",
       "      <td>0.000255</td>\n",
       "      <td>0.000198</td>\n",
       "    </tr>\n",
       "    <tr>\n",
       "      <th>HD</th>\n",
       "      <td>0.000354</td>\n",
       "      <td>0.000255</td>\n",
       "      <td>0.000389</td>\n",
       "      <td>0.000137</td>\n",
       "    </tr>\n",
       "    <tr>\n",
       "      <th>WMT</th>\n",
       "      <td>0.000161</td>\n",
       "      <td>0.000198</td>\n",
       "      <td>0.000137</td>\n",
       "      <td>0.000283</td>\n",
       "    </tr>\n",
       "  </tbody>\n",
       "</table>\n",
       "</div>"
      ],
      "text/plain": [
       "ticker      AMZN      COST        HD       WMT\n",
       "ticker                                        \n",
       "AMZN    0.000995  0.000350  0.000354  0.000161\n",
       "COST    0.000350  0.000390  0.000255  0.000198\n",
       "HD      0.000354  0.000255  0.000389  0.000137\n",
       "WMT     0.000161  0.000198  0.000137  0.000283"
      ]
     },
     "execution_count": 125,
     "metadata": {},
     "output_type": "execute_result"
    }
   ],
   "source": [
    "sigma = returns.cov()\n",
    "sigma"
   ]
  },
  {
   "cell_type": "code",
   "execution_count": 126,
   "metadata": {},
   "outputs": [
    {
     "data": {
      "text/plain": [
       "ticker\n",
       "AMZN    0.526884\n",
       "COST    0.101174\n",
       "HD      0.165371\n",
       "WMT     0.206572\n",
       "Name: weight, dtype: float64"
      ]
     },
     "execution_count": 126,
     "metadata": {},
     "output_type": "execute_result"
    }
   ],
   "source": [
    "fundamentals = quandl.get_table('SHARADAR/SF1', datekey={'gte':'2022-09-30','lte':'2022-12-31'}, dimension=\"ART\", ticker=tickers)\n",
    "fundamentals = fundamentals.drop_duplicates(\"ticker\", keep=\"first\")\n",
    "fundamentals.set_index(\"ticker\", inplace=True)\n",
    "fundamentals[\"weight\"] = fundamentals[\"marketcap\"] / sum(fundamentals[\"marketcap\"])\n",
    "fundamentals.sort_values(by=[\"ticker\"], ascending=[True], inplace=True)\n",
    "fundamentals[\"weight\"]"
   ]
  },
  {
   "cell_type": "code",
   "execution_count": 127,
   "metadata": {},
   "outputs": [
    {
     "data": {
      "text/html": [
       "<div>\n",
       "<style scoped>\n",
       "    .dataframe tbody tr th:only-of-type {\n",
       "        vertical-align: middle;\n",
       "    }\n",
       "\n",
       "    .dataframe tbody tr th {\n",
       "        vertical-align: top;\n",
       "    }\n",
       "\n",
       "    .dataframe thead th {\n",
       "        text-align: right;\n",
       "    }\n",
       "</style>\n",
       "<table border=\"1\" class=\"dataframe\">\n",
       "  <thead>\n",
       "    <tr style=\"text-align: right;\">\n",
       "      <th>ticker</th>\n",
       "      <th>AMZN</th>\n",
       "      <th>COST</th>\n",
       "      <th>HD</th>\n",
       "      <th>WMT</th>\n",
       "      <th>MKT</th>\n",
       "    </tr>\n",
       "    <tr>\n",
       "      <th>date</th>\n",
       "      <th></th>\n",
       "      <th></th>\n",
       "      <th></th>\n",
       "      <th></th>\n",
       "      <th></th>\n",
       "    </tr>\n",
       "  </thead>\n",
       "  <tbody>\n",
       "    <tr>\n",
       "      <th>2022-01-03</th>\n",
       "      <td>0.022121</td>\n",
       "      <td>-0.001742</td>\n",
       "      <td>-0.015348</td>\n",
       "      <td>-0.000277</td>\n",
       "      <td>0.008883</td>\n",
       "    </tr>\n",
       "    <tr>\n",
       "      <th>2022-01-04</th>\n",
       "      <td>-0.016918</td>\n",
       "      <td>-0.004377</td>\n",
       "      <td>0.010278</td>\n",
       "      <td>-0.018325</td>\n",
       "      <td>-0.011442</td>\n",
       "    </tr>\n",
       "    <tr>\n",
       "      <th>2022-01-05</th>\n",
       "      <td>-0.018891</td>\n",
       "      <td>-0.025362</td>\n",
       "      <td>-0.013565</td>\n",
       "      <td>0.013523</td>\n",
       "      <td>-0.011969</td>\n",
       "    </tr>\n",
       "    <tr>\n",
       "      <th>2022-01-06</th>\n",
       "      <td>-0.006709</td>\n",
       "      <td>-0.000219</td>\n",
       "      <td>-0.003634</td>\n",
       "      <td>-0.002777</td>\n",
       "      <td>-0.004732</td>\n",
       "    </tr>\n",
       "    <tr>\n",
       "      <th>2022-01-07</th>\n",
       "      <td>-0.004292</td>\n",
       "      <td>-0.024772</td>\n",
       "      <td>-0.029944</td>\n",
       "      <td>0.009542</td>\n",
       "      <td>-0.007748</td>\n",
       "    </tr>\n",
       "  </tbody>\n",
       "</table>\n",
       "</div>"
      ],
      "text/plain": [
       "ticker          AMZN      COST        HD       WMT       MKT\n",
       "date                                                        \n",
       "2022-01-03  0.022121 -0.001742 -0.015348 -0.000277  0.008883\n",
       "2022-01-04 -0.016918 -0.004377  0.010278 -0.018325 -0.011442\n",
       "2022-01-05 -0.018891 -0.025362 -0.013565  0.013523 -0.011969\n",
       "2022-01-06 -0.006709 -0.000219 -0.003634 -0.002777 -0.004732\n",
       "2022-01-07 -0.004292 -0.024772 -0.029944  0.009542 -0.007748"
      ]
     },
     "execution_count": 127,
     "metadata": {},
     "output_type": "execute_result"
    }
   ],
   "source": [
    "returns[\"MKT\"] = (returns * fundamentals[\"weight\"]).sum(axis=1)\n",
    "returns.head()"
   ]
  },
  {
   "cell_type": "code",
   "execution_count": 128,
   "metadata": {},
   "outputs": [
    {
     "data": {
      "text/plain": [
       "ticker\n",
       "AMZN    0.065134\n",
       "COST    0.030661\n",
       "HD      0.030497\n",
       "WMT     0.018621\n",
       "dtype: float64"
      ]
     },
     "execution_count": 128,
     "metadata": {},
     "output_type": "execute_result"
    }
   ],
   "source": [
    "lamb = 100\n",
    "tau = 0.025\n",
    "pi = np.matmul(lamb * sigma, fundamentals[\"weight\"])\n",
    "pi"
   ]
  },
  {
   "cell_type": "code",
   "execution_count": 129,
   "metadata": {},
   "outputs": [],
   "source": [
    "# equal weighting scheme\n",
    "P_eq = np.array([[1, 0, 0, 0], [0, 1, 0, 0], [0, 0, 1, 0], [0, 0, 0, 1]])"
   ]
  },
  {
   "cell_type": "code",
   "execution_count": 130,
   "metadata": {},
   "outputs": [],
   "source": [
    "Q = np.array([10, 5, -5, -10]) / 100"
   ]
  },
  {
   "cell_type": "code",
   "execution_count": 131,
   "metadata": {},
   "outputs": [
    {
     "data": {
      "text/plain": [
       "array([[2.48676219e-05, 0.00000000e+00, 0.00000000e+00, 0.00000000e+00],\n",
       "       [0.00000000e+00, 9.76189461e-06, 0.00000000e+00, 0.00000000e+00],\n",
       "       [0.00000000e+00, 0.00000000e+00, 9.73251538e-06, 0.00000000e+00],\n",
       "       [0.00000000e+00, 0.00000000e+00, 0.00000000e+00, 9.73251538e-06]])"
      ]
     },
     "execution_count": 131,
     "metadata": {},
     "output_type": "execute_result"
    }
   ],
   "source": [
    "# When the covariance matrix of the error term (Ω) is calculated using this method,\n",
    "# the actual value of the scalar (τ) becomes irrelevant because only the ratio ω / τ enters the model.\n",
    "omega = np.array([[np.matmul(np.matmul(P_eq[0], sigma), P_eq[0]) * tau, 0, 0, 0],\n",
    "                  [0, np.matmul(np.matmul(P_eq[1], sigma), P_eq[1]) * tau, 0, 0],\n",
    "                  [0, 0, np.matmul(np.matmul(P_eq[2], sigma), P_eq[2]) * tau, 0],\n",
    "                  [0, 0, 0, np.matmul(np.matmul(P_eq[2], sigma), P_eq[2]) * tau]])\n",
    "omega"
   ]
  },
  {
   "cell_type": "code",
   "execution_count": 132,
   "metadata": {},
   "outputs": [
    {
     "data": {
      "text/plain": [
       "array([ 0.06294231,  0.01315989, -0.00411028, -0.02641884])"
      ]
     },
     "execution_count": 132,
     "metadata": {},
     "output_type": "execute_result"
    }
   ],
   "source": [
    "e_r = np.matmul(np.linalg.inv(np.linalg.inv(tau * sigma) + np.matmul(np.matmul(P_eq.T, np.linalg.inv(omega)), P_eq)),\n",
    "          np.matmul(np.linalg.inv(tau * sigma), pi.T) + np.matmul(np.matmul(P_eq.T, np.linalg.inv(omega)), Q.T))\n",
    "e_r"
   ]
  }
 ],
 "metadata": {
  "kernelspec": {
   "display_name": "Python 3",
   "language": "python",
   "name": "python3"
  },
  "language_info": {
   "codemirror_mode": {
    "name": "ipython",
    "version": 3
   },
   "file_extension": ".py",
   "mimetype": "text/x-python",
   "name": "python",
   "nbconvert_exporter": "python",
   "pygments_lexer": "ipython3",
   "version": "3.10.8"
  }
 },
 "nbformat": 4,
 "nbformat_minor": 2
}
