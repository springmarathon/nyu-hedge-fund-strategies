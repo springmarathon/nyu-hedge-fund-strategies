{
 "cells": [
  {
   "cell_type": "code",
   "execution_count": 16,
   "metadata": {},
   "outputs": [],
   "source": [
    "import sys\n",
    "sys.path.append(\"/Users/weizhang/Documents/_GIT/nyu-hedge-fund-strategies/nyu-hedge-fund-strategies\")\n",
    "import nasdaqdatalink as quandl\n",
    "import matplotlib.pyplot as plt\n",
    "import numpy as np\n",
    "import pandas as pd\n",
    "from common import factor_distribution\n",
    "from sharadar import equity_prices, fundamental_signal\n",
    "from scipy.stats import pearsonr"
   ]
  },
  {
   "cell_type": "code",
   "execution_count": 2,
   "metadata": {},
   "outputs": [],
   "source": [
    "quandl.ApiConfig.api_key = 'NRvcyMwNMXZ2ooDSM3nw'\n",
    "universe = quandl.get_table('SHARADAR/SP500', action='historical', date='2022-12-31')"
   ]
  },
  {
   "cell_type": "code",
   "execution_count": 3,
   "metadata": {},
   "outputs": [],
   "source": [
    "fundamentals = quandl.get_table('SHARADAR/SF1', datekey={'gte':'2022-07-31','lte':'2022-12-31'}, dimension=\"ART\", ticker=\",\".join(universe['ticker'].to_list()))\n",
    "fundamentals = fundamentals.drop_duplicates(\"ticker\", keep=\"first\")\n",
    "fundamentals = fundamental_signal.operating_margin(fundamentals)"
   ]
  },
  {
   "cell_type": "code",
   "execution_count": 4,
   "metadata": {},
   "outputs": [],
   "source": [
    "p_fundamentals = quandl.get_table('SHARADAR/SF1', datekey={'gte':'2021-07-31','lte':'2021-12-31'}, dimension=\"ART\", ticker=\",\".join(universe['ticker'].to_list()))\n",
    "p_fundamentals = p_fundamentals.drop_duplicates(\"ticker\", keep=\"first\")\n",
    "p_fundamentals = fundamental_signal.operating_margin(p_fundamentals)"
   ]
  },
  {
   "cell_type": "code",
   "execution_count": 5,
   "metadata": {},
   "outputs": [],
   "source": [
    "fundamentals = pd.merge(left=fundamentals, right=p_fundamentals, left_on=\"ticker\", right_on=\"ticker\", how=\"inner\", suffixes=('_c', '_p'))\n",
    "fundamentals[\"operating_margin_growth\"] = fundamentals[\"operating_margin_c\"] - fundamentals[\"operating_margin_p\"]"
   ]
  },
  {
   "cell_type": "code",
   "execution_count": 6,
   "metadata": {},
   "outputs": [
    {
     "data": {
      "text/html": [
       "<div>\n",
       "<style scoped>\n",
       "    .dataframe tbody tr th:only-of-type {\n",
       "        vertical-align: middle;\n",
       "    }\n",
       "\n",
       "    .dataframe tbody tr th {\n",
       "        vertical-align: top;\n",
       "    }\n",
       "\n",
       "    .dataframe thead th {\n",
       "        text-align: right;\n",
       "    }\n",
       "</style>\n",
       "<table border=\"1\" class=\"dataframe\">\n",
       "  <thead>\n",
       "    <tr style=\"text-align: right;\">\n",
       "      <th></th>\n",
       "      <th>min</th>\n",
       "      <th>max</th>\n",
       "      <th>mean</th>\n",
       "      <th>std</th>\n",
       "      <th>count</th>\n",
       "      <th>avg daily count</th>\n",
       "      <th>count %</th>\n",
       "    </tr>\n",
       "    <tr>\n",
       "      <th>Factor Quantile</th>\n",
       "      <th></th>\n",
       "      <th></th>\n",
       "      <th></th>\n",
       "      <th></th>\n",
       "      <th></th>\n",
       "      <th></th>\n",
       "      <th></th>\n",
       "    </tr>\n",
       "  </thead>\n",
       "  <tbody>\n",
       "    <tr>\n",
       "      <th>1 (most negative)</th>\n",
       "      <td>-8.461e-01</td>\n",
       "      <td>-2.396e-02</td>\n",
       "      <td>-0.088</td>\n",
       "      <td>0.107</td>\n",
       "      <td>122</td>\n",
       "      <td>122.0</td>\n",
       "      <td>0.245</td>\n",
       "    </tr>\n",
       "    <tr>\n",
       "      <th>2</th>\n",
       "      <td>-2.387e-02</td>\n",
       "      <td>-1.579e-04</td>\n",
       "      <td>-0.011</td>\n",
       "      <td>0.006</td>\n",
       "      <td>122</td>\n",
       "      <td>122.0</td>\n",
       "      <td>0.245</td>\n",
       "    </tr>\n",
       "    <tr>\n",
       "      <th>3</th>\n",
       "      <td>4.111e-05</td>\n",
       "      <td>2.334e-02</td>\n",
       "      <td>0.010</td>\n",
       "      <td>0.007</td>\n",
       "      <td>105</td>\n",
       "      <td>105.0</td>\n",
       "      <td>0.211</td>\n",
       "    </tr>\n",
       "    <tr>\n",
       "      <th>4 (most negative)</th>\n",
       "      <td>2.338e-02</td>\n",
       "      <td>1.363e+00</td>\n",
       "      <td>0.128</td>\n",
       "      <td>0.170</td>\n",
       "      <td>105</td>\n",
       "      <td>105.0</td>\n",
       "      <td>0.211</td>\n",
       "    </tr>\n",
       "  </tbody>\n",
       "</table>\n",
       "</div>"
      ],
      "text/plain": [
       "                         min        max   mean    std  count  avg daily count   \n",
       "Factor Quantile                                                                 \n",
       "1 (most negative) -8.461e-01 -2.396e-02 -0.088  0.107    122            122.0  \\\n",
       "2                 -2.387e-02 -1.579e-04 -0.011  0.006    122            122.0   \n",
       "3                  4.111e-05  2.334e-02  0.010  0.007    105            105.0   \n",
       "4 (most negative)  2.338e-02  1.363e+00  0.128  0.170    105            105.0   \n",
       "\n",
       "                   count %  \n",
       "Factor Quantile             \n",
       "1 (most negative)    0.245  \n",
       "2                    0.245  \n",
       "3                    0.211  \n",
       "4 (most negative)    0.211  "
      ]
     },
     "execution_count": 6,
     "metadata": {},
     "output_type": "execute_result"
    }
   ],
   "source": [
    "# First, is profitability growth predictive of future returns?\n",
    "# Do companies with improving operating margins outperform companies with deteriorating operating margins? \n",
    "pd.set_option('display.precision', 3)\n",
    "factor_quantile_df = factor_distribution.factor_quantile_table(fundamentals[\"operating_margin_growth\"])\n",
    "factor_quantile_df"
   ]
  },
  {
   "cell_type": "code",
   "execution_count": 15,
   "metadata": {},
   "outputs": [
    {
     "data": {
      "text/html": [
       "<div>\n",
       "<style scoped>\n",
       "    .dataframe tbody tr th:only-of-type {\n",
       "        vertical-align: middle;\n",
       "    }\n",
       "\n",
       "    .dataframe tbody tr th {\n",
       "        vertical-align: top;\n",
       "    }\n",
       "\n",
       "    .dataframe thead th {\n",
       "        text-align: right;\n",
       "    }\n",
       "</style>\n",
       "<table border=\"1\" class=\"dataframe\">\n",
       "  <thead>\n",
       "    <tr style=\"text-align: right;\">\n",
       "      <th></th>\n",
       "      <th>min</th>\n",
       "      <th>max</th>\n",
       "      <th>mean</th>\n",
       "      <th>std</th>\n",
       "      <th>count</th>\n",
       "      <th>avg daily count</th>\n",
       "      <th>count %</th>\n",
       "    </tr>\n",
       "    <tr>\n",
       "      <th>Factor Quantile</th>\n",
       "      <th></th>\n",
       "      <th></th>\n",
       "      <th></th>\n",
       "      <th></th>\n",
       "      <th></th>\n",
       "      <th></th>\n",
       "      <th></th>\n",
       "    </tr>\n",
       "  </thead>\n",
       "  <tbody>\n",
       "    <tr>\n",
       "      <th>1 (most negative)</th>\n",
       "      <td>-0.854</td>\n",
       "      <td>-0.120</td>\n",
       "      <td>-0.325</td>\n",
       "      <td>0.223</td>\n",
       "      <td>10</td>\n",
       "      <td>10.0</td>\n",
       "      <td>0.02</td>\n",
       "    </tr>\n",
       "    <tr>\n",
       "      <th>2</th>\n",
       "      <td>-0.118</td>\n",
       "      <td>-0.002</td>\n",
       "      <td>-0.038</td>\n",
       "      <td>0.042</td>\n",
       "      <td>10</td>\n",
       "      <td>10.0</td>\n",
       "      <td>0.02</td>\n",
       "    </tr>\n",
       "    <tr>\n",
       "      <th>3</th>\n",
       "      <td>0.002</td>\n",
       "      <td>0.172</td>\n",
       "      <td>0.103</td>\n",
       "      <td>0.045</td>\n",
       "      <td>219</td>\n",
       "      <td>219.0</td>\n",
       "      <td>0.44</td>\n",
       "    </tr>\n",
       "    <tr>\n",
       "      <th>4 (most negative)</th>\n",
       "      <td>0.172</td>\n",
       "      <td>0.702</td>\n",
       "      <td>0.287</td>\n",
       "      <td>0.109</td>\n",
       "      <td>219</td>\n",
       "      <td>219.0</td>\n",
       "      <td>0.44</td>\n",
       "    </tr>\n",
       "  </tbody>\n",
       "</table>\n",
       "</div>"
      ],
      "text/plain": [
       "                     min    max   mean    std  count  avg daily count  count %\n",
       "Factor Quantile                                                               \n",
       "1 (most negative) -0.854 -0.120 -0.325  0.223     10             10.0     0.02\n",
       "2                 -0.118 -0.002 -0.038  0.042     10             10.0     0.02\n",
       "3                  0.002  0.172  0.103  0.045    219            219.0     0.44\n",
       "4 (most negative)  0.172  0.702  0.287  0.109    219            219.0     0.44"
      ]
     },
     "execution_count": 15,
     "metadata": {},
     "output_type": "execute_result"
    }
   ],
   "source": [
    "factor_quantile_df = factor_distribution.factor_quantile_table(fundamentals[\"operating_margin_c\"])\n",
    "factor_quantile_df"
   ]
  },
  {
   "cell_type": "code",
   "execution_count": 7,
   "metadata": {},
   "outputs": [],
   "source": [
    "fundamentals.sort_values(\"datekey_c\", inplace=True)\n",
    "fundamentals[\"OneDRet\"] = 0.0\n",
    "fundamentals[\"FiveDRet\"] = 0.0\n",
    "fundamentals[\"TwentyOneDRet\"] = 0.0\n",
    "datekeys = fundamentals[\"datekey_c\"].unique()\n",
    "for d in datekeys:\n",
    "    tickers = fundamentals[fundamentals[\"datekey_c\"] == d][\"ticker\"].to_list()\n",
    "    df = equity_prices.get_price_daterange(tickers, d)\n",
    "    for t in tickers:\n",
    "        tdf = df[df[\"ticker\"] == t]\n",
    "        if not tdf.empty:\n",
    "            tdf = tdf.sort_values(\"date\")\n",
    "            fundamentals.loc[fundamentals[\"ticker\"] == t, \"OneDRet\"] = tdf.iloc[1][\"closeadj\"] / tdf.iloc[0][\"closeadj\"] - 1\n",
    "            fundamentals.loc[fundamentals[\"ticker\"] == t, \"FiveDRet\"] = tdf.iloc[5][\"closeadj\"] / tdf.iloc[0][\"closeadj\"] - 1\n",
    "            fundamentals.loc[fundamentals[\"ticker\"] == t, \"TwentyOneDRet\"] = tdf.iloc[21][\"closeadj\"] / tdf.iloc[0][\"closeadj\"] - 1"
   ]
  },
  {
   "cell_type": "code",
   "execution_count": 8,
   "metadata": {},
   "outputs": [],
   "source": [
    "one_day_returns, five_day_returns, twentyone_day_returns = factor_distribution.factor_quantile_return(fundamentals, \"operating_margin_growth\")"
   ]
  },
  {
   "cell_type": "code",
   "execution_count": 9,
   "metadata": {},
   "outputs": [
    {
     "data": {
      "image/png": "[encoded data removed]",
      "text/plain": [
       "<Figure size 600x400 with 1 Axes>"
      ]
     },
     "metadata": {},
     "output_type": "display_data"
    }
   ],
   "source": [
    "barWidth = 0.25\n",
    "fig = plt.subplots(figsize =(6, 4))\n",
    "br1 = np.arange(len(one_day_returns)) \n",
    "br2 = [x + barWidth for x in br1]\n",
    "br3 = [x + barWidth for x in br2]\n",
    "plt.bar(br1, one_day_returns, color ='r', width = barWidth, edgecolor ='grey', label ='1D') \n",
    "plt.bar(br2, five_day_returns, color ='g', width = barWidth, edgecolor ='grey', label ='5D') \n",
    "plt.bar(br3, twentyone_day_returns, color ='b', width = barWidth, edgecolor ='grey', label ='21D')\n",
    "plt.ylabel('Mean Relative Return (bps)', fontweight ='bold', fontsize = 15) \n",
    "plt.legend()\n",
    "plt.show()"
   ]
  },
  {
   "cell_type": "code",
   "execution_count": 10,
   "metadata": {},
   "outputs": [],
   "source": [
    "# Second, assuming profitability growth is predictive, how does it relate to profitability?\n",
    "fundamentals[\"is_profitable\"] = 1\n",
    "fundamentals.loc[fundamentals[\"operating_margin_c\"] < 0, \"is_profitable\"] = 0"
   ]
  },
  {
   "cell_type": "code",
   "execution_count": 12,
   "metadata": {},
   "outputs": [
    {
     "data": {
      "text/plain": [
       "([<matplotlib.patches.Wedge at 0x7fa3999b3a60>,\n",
       "  <matplotlib.patches.Wedge at 0x7fa3999b3f10>],\n",
       " [Text(-1.0823225495601467, 0.19641257269743193, 'True'),\n",
       "  Text(1.0823225518588306, -0.1964125600306379, 'False')])"
      ]
     },
     "execution_count": 12,
     "metadata": {},
     "output_type": "execute_result"
    },
    {
     "data": {
      "image/png": "[encoded data removed]",
      "text/plain": [
       "<Figure size 640x480 with 2 Axes>"
      ]
     },
     "metadata": {},
     "output_type": "display_data"
    }
   ],
   "source": [
    "negative_opermargin = fundamentals[fundamentals[\"operating_margin_growth\"] <= 0]\n",
    "twenty_five_percentile = np.nanpercentile(negative_opermargin[\"operating_margin_growth\"], 50)\n",
    "\n",
    "positive_opermargin = fundamentals[fundamentals[\"operating_margin_growth\"] > 0]\n",
    "seventy_five_percentile = np.nanpercentile(positive_opermargin[\"operating_margin_growth\"], 50)\n",
    "\n",
    "first_quantile = negative_opermargin[negative_opermargin[\"operating_margin_growth\"] <= twenty_five_percentile]\n",
    "forth_quantile = positive_opermargin[positive_opermargin[\"operating_margin_growth\"] > seventy_five_percentile]\n",
    "\n",
    "f, (ax1, ax2) = plt.subplots(1, 2, sharey=True)\n",
    "ax1.pie([first_quantile[first_quantile[\"is_profitable\"] == 1].shape[0], first_quantile[first_quantile[\"is_profitable\"] == 0].shape[0]], labels=[\"True\", \"False\"])\n",
    "ax2.pie([forth_quantile[forth_quantile[\"is_profitable\"] == 1].shape[0], forth_quantile[forth_quantile[\"is_profitable\"] == 0].shape[0]], labels=[\"True\", \"False\"])\n",
    "# We see that it is better to own an unprofitable company that's getting better than a profitable company that's getting worse.\n",
    "# This suggests that profitability growth is a more reliable indicator of future performance among profitable companies than among unprofitable companies. "
   ]
  },
  {
   "cell_type": "code",
   "execution_count": 18,
   "metadata": {},
   "outputs": [],
   "source": [
    "corr = fundamentals[[\"operating_margin_growth\", \"OneDRet\"]].corr()"
   ]
  },
  {
   "cell_type": "code",
   "execution_count": 19,
   "metadata": {},
   "outputs": [
    {
     "data": {
      "text/html": [
       "<div>\n",
       "<style scoped>\n",
       "    .dataframe tbody tr th:only-of-type {\n",
       "        vertical-align: middle;\n",
       "    }\n",
       "\n",
       "    .dataframe tbody tr th {\n",
       "        vertical-align: top;\n",
       "    }\n",
       "\n",
       "    .dataframe thead th {\n",
       "        text-align: right;\n",
       "    }\n",
       "</style>\n",
       "<table border=\"1\" class=\"dataframe\">\n",
       "  <thead>\n",
       "    <tr style=\"text-align: right;\">\n",
       "      <th></th>\n",
       "      <th>operating_margin_growth</th>\n",
       "      <th>OneDRet</th>\n",
       "    </tr>\n",
       "  </thead>\n",
       "  <tbody>\n",
       "    <tr>\n",
       "      <th>operating_margin_growth</th>\n",
       "      <td>1.000</td>\n",
       "      <td>-0.038</td>\n",
       "    </tr>\n",
       "    <tr>\n",
       "      <th>OneDRet</th>\n",
       "      <td>-0.038</td>\n",
       "      <td>1.000</td>\n",
       "    </tr>\n",
       "  </tbody>\n",
       "</table>\n",
       "</div>"
      ],
      "text/plain": [
       "                         operating_margin_growth  OneDRet\n",
       "operating_margin_growth                    1.000   -0.038\n",
       "OneDRet                                   -0.038    1.000"
      ]
     },
     "execution_count": 19,
     "metadata": {},
     "output_type": "execute_result"
    }
   ],
   "source": [
    "corr"
   ]
  },
  {
   "cell_type": "code",
   "execution_count": null,
   "metadata": {},
   "outputs": [],
   "source": [
    "# My third question is how the profitability growth factor interacts with the size factor."
   ]
  }
 ],
 "metadata": {
  "kernelspec": {
   "display_name": "Python 3",
   "language": "python",
   "name": "python3"
  },
  "language_info": {
   "codemirror_mode": {
    "name": "ipython",
    "version": 3
   },
   "file_extension": ".py",
   "mimetype": "text/x-python",
   "name": "python",
   "nbconvert_exporter": "python",
   "pygments_lexer": "ipython3",
   "version": "3.10.11"
  },
  "orig_nbformat": 4
 },
 "nbformat": 4,
 "nbformat_minor": 2
}
