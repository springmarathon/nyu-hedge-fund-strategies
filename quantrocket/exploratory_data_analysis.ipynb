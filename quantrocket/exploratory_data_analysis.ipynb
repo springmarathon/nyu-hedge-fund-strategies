{
 "cells": [
  {
   "cell_type": "code",
   "execution_count": 14,
   "metadata": {},
   "outputs": [],
   "source": [
    "import nasdaqdatalink as quandl\n",
    "import pandas as pd"
   ]
  },
  {
   "cell_type": "code",
   "execution_count": 15,
   "metadata": {},
   "outputs": [
    {
     "data": {
      "text/html": [
       "<div>\n",
       "<style scoped>\n",
       "    .dataframe tbody tr th:only-of-type {\n",
       "        vertical-align: middle;\n",
       "    }\n",
       "\n",
       "    .dataframe tbody tr th {\n",
       "        vertical-align: top;\n",
       "    }\n",
       "\n",
       "    .dataframe thead th {\n",
       "        text-align: right;\n",
       "    }\n",
       "</style>\n",
       "<table border=\"1\" class=\"dataframe\">\n",
       "  <thead>\n",
       "    <tr style=\"text-align: right;\">\n",
       "      <th></th>\n",
       "      <th>date</th>\n",
       "      <th>action</th>\n",
       "      <th>ticker</th>\n",
       "      <th>name</th>\n",
       "      <th>contraticker</th>\n",
       "      <th>contraname</th>\n",
       "      <th>note</th>\n",
       "    </tr>\n",
       "    <tr>\n",
       "      <th>None</th>\n",
       "      <th></th>\n",
       "      <th></th>\n",
       "      <th></th>\n",
       "      <th></th>\n",
       "      <th></th>\n",
       "      <th></th>\n",
       "      <th></th>\n",
       "    </tr>\n",
       "  </thead>\n",
       "  <tbody>\n",
       "    <tr>\n",
       "      <th>0</th>\n",
       "      <td>2023-10-14</td>\n",
       "      <td>current</td>\n",
       "      <td>ZTS</td>\n",
       "      <td>ZOETIS INC</td>\n",
       "      <td>N/A</td>\n",
       "      <td>N/A</td>\n",
       "      <td>None</td>\n",
       "    </tr>\n",
       "    <tr>\n",
       "      <th>1</th>\n",
       "      <td>2023-10-14</td>\n",
       "      <td>current</td>\n",
       "      <td>ZION</td>\n",
       "      <td>ZIONS BANCORPORATION NATIONAL ASSOCIATION</td>\n",
       "      <td>N/A</td>\n",
       "      <td>N/A</td>\n",
       "      <td>None</td>\n",
       "    </tr>\n",
       "    <tr>\n",
       "      <th>2</th>\n",
       "      <td>2023-10-14</td>\n",
       "      <td>current</td>\n",
       "      <td>ZBRA</td>\n",
       "      <td>ZEBRA TECHNOLOGIES CORP</td>\n",
       "      <td>N/A</td>\n",
       "      <td>N/A</td>\n",
       "      <td>None</td>\n",
       "    </tr>\n",
       "    <tr>\n",
       "      <th>3</th>\n",
       "      <td>2023-10-14</td>\n",
       "      <td>current</td>\n",
       "      <td>ZBH</td>\n",
       "      <td>ZIMMER BIOMET HOLDINGS INC</td>\n",
       "      <td>N/A</td>\n",
       "      <td>N/A</td>\n",
       "      <td>None</td>\n",
       "    </tr>\n",
       "    <tr>\n",
       "      <th>4</th>\n",
       "      <td>2023-10-14</td>\n",
       "      <td>current</td>\n",
       "      <td>YUM</td>\n",
       "      <td>YUM BRANDS INC</td>\n",
       "      <td>N/A</td>\n",
       "      <td>N/A</td>\n",
       "      <td>None</td>\n",
       "    </tr>\n",
       "  </tbody>\n",
       "</table>\n",
       "</div>"
      ],
      "text/plain": [
       "           date   action ticker                                       name  \\\n",
       "None                                                                         \n",
       "0    2023-10-14  current    ZTS                                 ZOETIS INC   \n",
       "1    2023-10-14  current   ZION  ZIONS BANCORPORATION NATIONAL ASSOCIATION   \n",
       "2    2023-10-14  current   ZBRA                    ZEBRA TECHNOLOGIES CORP   \n",
       "3    2023-10-14  current    ZBH                 ZIMMER BIOMET HOLDINGS INC   \n",
       "4    2023-10-14  current    YUM                             YUM BRANDS INC   \n",
       "\n",
       "     contraticker contraname  note  \n",
       "None                                \n",
       "0             N/A        N/A  None  \n",
       "1             N/A        N/A  None  \n",
       "2             N/A        N/A  None  \n",
       "3             N/A        N/A  None  \n",
       "4             N/A        N/A  None  "
      ]
     },
     "execution_count": 15,
     "metadata": {},
     "output_type": "execute_result"
    }
   ],
   "source": [
    "quandl.ApiConfig.api_key = 'NRvcyMwNMXZ2ooDSM3nw'\n",
    "universe = quandl.get_table('SHARADAR/SP500', action='current')\n",
    "universe.head()"
   ]
  },
  {
   "attachments": {},
   "cell_type": "markdown",
   "metadata": {},
   "source": [
    "AR excludes restatements\n",
    "\n",
    "| DIMENSIONS | AS REPORTED | MOST-RECENT REPORTED |\n",
    "| --- | --- | --- |\n",
    "| Annual | ARY | MRY |\n",
    "| Quarterly\t| ARQ | MRQ |\n",
    "| Trailing Twelve Months | ART | MRT|"
   ]
  },
  {
   "cell_type": "code",
   "execution_count": 16,
   "metadata": {},
   "outputs": [
    {
     "data": {
      "text/html": [
       "<div>\n",
       "<style scoped>\n",
       "    .dataframe tbody tr th:only-of-type {\n",
       "        vertical-align: middle;\n",
       "    }\n",
       "\n",
       "    .dataframe tbody tr th {\n",
       "        vertical-align: top;\n",
       "    }\n",
       "\n",
       "    .dataframe thead th {\n",
       "        text-align: right;\n",
       "    }\n",
       "</style>\n",
       "<table border=\"1\" class=\"dataframe\">\n",
       "  <thead>\n",
       "    <tr style=\"text-align: right;\">\n",
       "      <th></th>\n",
       "      <th>ticker</th>\n",
       "      <th>dimension</th>\n",
       "      <th>calendardate</th>\n",
       "      <th>datekey</th>\n",
       "      <th>reportperiod</th>\n",
       "      <th>lastupdated</th>\n",
       "      <th>accoci</th>\n",
       "      <th>assets</th>\n",
       "      <th>assetsavg</th>\n",
       "      <th>assetsc</th>\n",
       "      <th>...</th>\n",
       "      <th>sharesbas</th>\n",
       "      <th>shareswa</th>\n",
       "      <th>shareswadil</th>\n",
       "      <th>sps</th>\n",
       "      <th>tangibles</th>\n",
       "      <th>taxassets</th>\n",
       "      <th>taxexp</th>\n",
       "      <th>taxliabilities</th>\n",
       "      <th>tbvps</th>\n",
       "      <th>workingcapital</th>\n",
       "    </tr>\n",
       "    <tr>\n",
       "      <th>None</th>\n",
       "      <th></th>\n",
       "      <th></th>\n",
       "      <th></th>\n",
       "      <th></th>\n",
       "      <th></th>\n",
       "      <th></th>\n",
       "      <th></th>\n",
       "      <th></th>\n",
       "      <th></th>\n",
       "      <th></th>\n",
       "      <th></th>\n",
       "      <th></th>\n",
       "      <th></th>\n",
       "      <th></th>\n",
       "      <th></th>\n",
       "      <th></th>\n",
       "      <th></th>\n",
       "      <th></th>\n",
       "      <th></th>\n",
       "      <th></th>\n",
       "      <th></th>\n",
       "    </tr>\n",
       "  </thead>\n",
       "  <tbody>\n",
       "    <tr>\n",
       "      <th>0</th>\n",
       "      <td>ZTS</td>\n",
       "      <td>ART</td>\n",
       "      <td>2023-06-30</td>\n",
       "      <td>2023-08-08</td>\n",
       "      <td>2023-06-30</td>\n",
       "      <td>2023-08-08</td>\n",
       "      <td>-895000000</td>\n",
       "      <td>13749000000</td>\n",
       "      <td>1.402550e+10</td>\n",
       "      <td>6.183000e+09</td>\n",
       "      <td>...</td>\n",
       "      <td>460316905</td>\n",
       "      <td>461900000</td>\n",
       "      <td>462900000.0</td>\n",
       "      <td>17.800</td>\n",
       "      <td>9783000000</td>\n",
       "      <td>192000000</td>\n",
       "      <td>619000000.0</td>\n",
       "      <td>486000000</td>\n",
       "      <td>21.180</td>\n",
       "      <td>4.414000e+09</td>\n",
       "    </tr>\n",
       "    <tr>\n",
       "      <th>2</th>\n",
       "      <td>ZION</td>\n",
       "      <td>ART</td>\n",
       "      <td>2023-06-30</td>\n",
       "      <td>2023-08-04</td>\n",
       "      <td>2023-06-30</td>\n",
       "      <td>2023-08-07</td>\n",
       "      <td>-2930000000</td>\n",
       "      <td>87230000000</td>\n",
       "      <td>8.845550e+10</td>\n",
       "      <td>NaN</td>\n",
       "      <td>...</td>\n",
       "      <td>148145133</td>\n",
       "      <td>147692000</td>\n",
       "      <td>147696000.0</td>\n",
       "      <td>21.091</td>\n",
       "      <td>86168000000</td>\n",
       "      <td>0</td>\n",
       "      <td>265000000.0</td>\n",
       "      <td>0</td>\n",
       "      <td>583.430</td>\n",
       "      <td>NaN</td>\n",
       "    </tr>\n",
       "    <tr>\n",
       "      <th>4</th>\n",
       "      <td>ZBRA</td>\n",
       "      <td>ART</td>\n",
       "      <td>2023-06-30</td>\n",
       "      <td>2023-08-01</td>\n",
       "      <td>2023-07-01</td>\n",
       "      <td>2023-08-01</td>\n",
       "      <td>-60000000</td>\n",
       "      <td>7456000000</td>\n",
       "      <td>7.476750e+09</td>\n",
       "      <td>1.753000e+09</td>\n",
       "      <td>...</td>\n",
       "      <td>51338364</td>\n",
       "      <td>51338364</td>\n",
       "      <td>NaN</td>\n",
       "      <td>107.132</td>\n",
       "      <td>2983000000</td>\n",
       "      <td>461000000</td>\n",
       "      <td>153000000.0</td>\n",
       "      <td>91000000</td>\n",
       "      <td>58.105</td>\n",
       "      <td>-1.700000e+07</td>\n",
       "    </tr>\n",
       "    <tr>\n",
       "      <th>6</th>\n",
       "      <td>ZBH</td>\n",
       "      <td>ART</td>\n",
       "      <td>2023-06-30</td>\n",
       "      <td>2023-08-01</td>\n",
       "      <td>2023-06-30</td>\n",
       "      <td>2023-08-01</td>\n",
       "      <td>-177800000</td>\n",
       "      <td>21294300000</td>\n",
       "      <td>2.123428e+10</td>\n",
       "      <td>4.387900e+09</td>\n",
       "      <td>...</td>\n",
       "      <td>208964134</td>\n",
       "      <td>208600000</td>\n",
       "      <td>209900000.0</td>\n",
       "      <td>34.494</td>\n",
       "      <td>7522900000</td>\n",
       "      <td>0</td>\n",
       "      <td>159800000.0</td>\n",
       "      <td>932200000</td>\n",
       "      <td>36.064</td>\n",
       "      <td>2.154200e+09</td>\n",
       "    </tr>\n",
       "    <tr>\n",
       "      <th>8</th>\n",
       "      <td>YUM</td>\n",
       "      <td>ART</td>\n",
       "      <td>2023-06-30</td>\n",
       "      <td>2023-08-07</td>\n",
       "      <td>2023-06-30</td>\n",
       "      <td>2023-08-07</td>\n",
       "      <td>-293000000</td>\n",
       "      <td>5848000000</td>\n",
       "      <td>5.805500e+09</td>\n",
       "      <td>1.515000e+09</td>\n",
       "      <td>...</td>\n",
       "      <td>280211281</td>\n",
       "      <td>280211281</td>\n",
       "      <td>NaN</td>\n",
       "      <td>24.949</td>\n",
       "      <td>4838000000</td>\n",
       "      <td>821000000</td>\n",
       "      <td>303000000.0</td>\n",
       "      <td>50000000</td>\n",
       "      <td>17.266</td>\n",
       "      <td>2.800000e+07</td>\n",
       "    </tr>\n",
       "  </tbody>\n",
       "</table>\n",
       "<p>5 rows × 111 columns</p>\n",
       "</div>"
      ],
      "text/plain": [
       "     ticker dimension calendardate    datekey reportperiod lastupdated  \\\n",
       "None                                                                     \n",
       "0       ZTS       ART   2023-06-30 2023-08-08   2023-06-30  2023-08-08   \n",
       "2      ZION       ART   2023-06-30 2023-08-04   2023-06-30  2023-08-07   \n",
       "4      ZBRA       ART   2023-06-30 2023-08-01   2023-07-01  2023-08-01   \n",
       "6       ZBH       ART   2023-06-30 2023-08-01   2023-06-30  2023-08-01   \n",
       "8       YUM       ART   2023-06-30 2023-08-07   2023-06-30  2023-08-07   \n",
       "\n",
       "          accoci       assets     assetsavg       assetsc  ...  sharesbas  \\\n",
       "None                                                       ...              \n",
       "0     -895000000  13749000000  1.402550e+10  6.183000e+09  ...  460316905   \n",
       "2    -2930000000  87230000000  8.845550e+10           NaN  ...  148145133   \n",
       "4      -60000000   7456000000  7.476750e+09  1.753000e+09  ...   51338364   \n",
       "6     -177800000  21294300000  2.123428e+10  4.387900e+09  ...  208964134   \n",
       "8     -293000000   5848000000  5.805500e+09  1.515000e+09  ...  280211281   \n",
       "\n",
       "       shareswa  shareswadil      sps    tangibles  taxassets       taxexp  \\\n",
       "None                                                                         \n",
       "0     461900000  462900000.0   17.800   9783000000  192000000  619000000.0   \n",
       "2     147692000  147696000.0   21.091  86168000000          0  265000000.0   \n",
       "4      51338364          NaN  107.132   2983000000  461000000  153000000.0   \n",
       "6     208600000  209900000.0   34.494   7522900000          0  159800000.0   \n",
       "8     280211281          NaN   24.949   4838000000  821000000  303000000.0   \n",
       "\n",
       "      taxliabilities    tbvps  workingcapital  \n",
       "None                                           \n",
       "0          486000000   21.180    4.414000e+09  \n",
       "2                  0  583.430             NaN  \n",
       "4           91000000   58.105   -1.700000e+07  \n",
       "6          932200000   36.064    2.154200e+09  \n",
       "8           50000000   17.266    2.800000e+07  \n",
       "\n",
       "[5 rows x 111 columns]"
      ]
     },
     "execution_count": 16,
     "metadata": {},
     "output_type": "execute_result"
    }
   ],
   "source": [
    "fundamentals = quandl.get_table('SHARADAR/SF1', datekey={'gte':'2023-03-31','lte':'2023-08-31'}, dimension=\"ART\", ticker=\",\".join(universe['ticker'].to_list()))\n",
    "fundamentals = fundamentals.drop_duplicates(\"ticker\", keep=\"first\")\n",
    "fundamentals.head()\n",
    "# 'ticker', 'dimension', 'calendardate', 'datekey', 'reportperiod', 'lastupdated', 'accoci', 'assets', 'assetsavg', 'assetsc', 'assetsnc', 'assetturnover', 'bvps', 'capex', 'cashneq', 'cashnequsd', 'cor', 'consolinc', 'currentratio', 'de', 'debt', 'debtc', 'debtnc', 'debtusd',\n",
    "# 'deferredrev', 'depamor', 'deposits', 'divyield', 'dps', 'ebit', 'ebitda', 'ebitdamargin', 'ebitdausd', 'ebitusd', 'ebt', 'eps', 'epsdil', 'epsusd', 'equity', 'equityavg', 'equityusd', 'ev', 'evebit', 'evebitda', 'fcf', 'fcfps', 'fxusd', 'gp', 'grossmargin', 'intangibles', 'intexp',\n",
    "# 'invcap', 'invcapavg', 'inventory', 'investments', 'investmentsc', 'investmentsnc', 'liabilities', 'liabilitiesc', 'liabilitiesnc', 'marketcap', 'ncf', 'ncfbus', 'ncfcommon', 'ncfdebt', 'ncfdiv', 'ncff', 'ncfi', 'ncfinv', 'ncfo', 'ncfx', 'netinc', 'netinccmn', 'netinccmnusd',\n",
    "# 'netincdis', 'netincnci', 'netmargin', 'opex', 'opinc', 'payables', 'payoutratio', 'pb', 'pe', 'pe1', 'ppnenet', 'prefdivis', 'price', 'ps', 'ps1', 'receivables', 'retearn', 'revenue', 'revenueusd', 'rnd', 'roa', 'roe', 'roic', 'ros', 'sbcomp', 'sgna', 'sharefactor', 'sharesbas',\n",
    "# 'shareswa', 'shareswadil', 'sps', 'tangibles', 'taxassets', 'taxexp', 'taxliabilities', 'tbvps', 'workingcapital'\n",
    "# https://data.nasdaq.com/tables/SHARADAR-INDICATORS/export?api_key=2t6jF1958vkM2PYyDF1v&table%5B%5D=SF1&table%5B%5D=TICKERS"
   ]
  },
  {
   "cell_type": "code",
   "execution_count": 17,
   "metadata": {},
   "outputs": [
    {
     "data": {
      "text/plain": [
       "count    498.000000\n",
       "mean       0.181247\n",
       "std        0.167587\n",
       "min       -1.552697\n",
       "25%        0.096449\n",
       "50%        0.170057\n",
       "75%        0.257460\n",
       "max        0.868417\n",
       "Name: operating_margin, dtype: float64"
      ]
     },
     "execution_count": 17,
     "metadata": {},
     "output_type": "execute_result"
    }
   ],
   "source": [
    "fundamentals[\"operating_margin\"] = fundamentals[\"opinc\"] / fundamentals[\"revenue\"]\n",
    "fundamentals[\"operating_margin\"].describe()"
   ]
  },
  {
   "cell_type": "code",
   "execution_count": 18,
   "metadata": {},
   "outputs": [
    {
     "data": {
      "text/plain": [
       "count    498.000000\n",
       "mean       0.181247\n",
       "std        0.167587\n",
       "min       -1.552697\n",
       "25%        0.096449\n",
       "50%        0.170057\n",
       "75%        0.257460\n",
       "max        0.868417\n",
       "Name: operating_margin, dtype: float64"
      ]
     },
     "execution_count": 18,
     "metadata": {},
     "output_type": "execute_result"
    }
   ],
   "source": [
    "# revenue can be 0 (companies with no sales)\n",
    "revenue = fundamentals.revenue\n",
    "fundamentals[\"operating_margin\"] = fundamentals.opinc / revenue.where(revenue > 0)\n",
    "fundamentals[\"operating_margin\"].describe()\n",
    "# operating margin can also be negative: a company can spend arbitrarily more than it brings in as revenue"
   ]
  },
  {
   "cell_type": "code",
   "execution_count": 20,
   "metadata": {},
   "outputs": [
    {
     "data": {
      "text/html": [
       "<div>\n",
       "<style scoped>\n",
       "    .dataframe tbody tr th:only-of-type {\n",
       "        vertical-align: middle;\n",
       "    }\n",
       "\n",
       "    .dataframe tbody tr th {\n",
       "        vertical-align: top;\n",
       "    }\n",
       "\n",
       "    .dataframe thead th {\n",
       "        text-align: right;\n",
       "    }\n",
       "</style>\n",
       "<table border=\"1\" class=\"dataframe\">\n",
       "  <thead>\n",
       "    <tr style=\"text-align: right;\">\n",
       "      <th></th>\n",
       "      <th>ticker</th>\n",
       "      <th>dimension</th>\n",
       "      <th>calendardate</th>\n",
       "      <th>datekey</th>\n",
       "      <th>reportperiod</th>\n",
       "      <th>operating_margin</th>\n",
       "      <th>revenue</th>\n",
       "      <th>opinc</th>\n",
       "      <th>gp</th>\n",
       "      <th>cor</th>\n",
       "      <th>opex</th>\n",
       "    </tr>\n",
       "    <tr>\n",
       "      <th>None</th>\n",
       "      <th></th>\n",
       "      <th></th>\n",
       "      <th></th>\n",
       "      <th></th>\n",
       "      <th></th>\n",
       "      <th></th>\n",
       "      <th></th>\n",
       "      <th></th>\n",
       "      <th></th>\n",
       "      <th></th>\n",
       "      <th></th>\n",
       "    </tr>\n",
       "  </thead>\n",
       "  <tbody>\n",
       "    <tr>\n",
       "      <th>71</th>\n",
       "      <td>VICI</td>\n",
       "      <td>ART</td>\n",
       "      <td>2023-06-30</td>\n",
       "      <td>2023-07-26</td>\n",
       "      <td>2023-06-30</td>\n",
       "      <td>0.868417</td>\n",
       "      <td>3.297254e+09</td>\n",
       "      <td>2.863392e+09</td>\n",
       "      <td>3.200710e+09</td>\n",
       "      <td>96544000.0</td>\n",
       "      <td>337318000.0</td>\n",
       "    </tr>\n",
       "    <tr>\n",
       "      <th>60</th>\n",
       "      <td>VRSN</td>\n",
       "      <td>ART</td>\n",
       "      <td>2023-06-30</td>\n",
       "      <td>2023-07-27</td>\n",
       "      <td>2023-06-30</td>\n",
       "      <td>0.664821</td>\n",
       "      <td>1.462500e+09</td>\n",
       "      <td>9.723000e+08</td>\n",
       "      <td>1.261800e+09</td>\n",
       "      <td>200700000.0</td>\n",
       "      <td>289500000.0</td>\n",
       "    </tr>\n",
       "  </tbody>\n",
       "</table>\n",
       "</div>"
      ],
      "text/plain": [
       "     ticker dimension calendardate    datekey reportperiod  operating_margin  \\\n",
       "None                                                                           \n",
       "71     VICI       ART   2023-06-30 2023-07-26   2023-06-30          0.868417   \n",
       "60     VRSN       ART   2023-06-30 2023-07-27   2023-06-30          0.664821   \n",
       "\n",
       "           revenue         opinc            gp          cor         opex  \n",
       "None                                                                      \n",
       "71    3.297254e+09  2.863392e+09  3.200710e+09   96544000.0  337318000.0  \n",
       "60    1.462500e+09  9.723000e+08  1.261800e+09  200700000.0  289500000.0  "
      ]
     },
     "execution_count": 20,
     "metadata": {},
     "output_type": "execute_result"
    }
   ],
   "source": [
    "fundamentals.sort_values('operating_margin', ascending=False).drop_duplicates().head(2)[[\"ticker\", \"dimension\", \"calendardate\", \"datekey\", \"reportperiod\", \"operating_margin\", \"revenue\", \"opinc\", \"gp\", \"cor\", \"opex\"]]\n",
    "# A negative operating expense or cost of revenue is unexpected and may indicate an unusual one-time accounting adjustment made by the company; further investigation (such as viewing the full report on the SEC website) would be required to determine with certainty."
   ]
  },
  {
   "cell_type": "code",
   "execution_count": 22,
   "metadata": {},
   "outputs": [
    {
     "data": {
      "text/plain": [
       "count    458.000000\n",
       "mean       0.169676\n",
       "std        0.165881\n",
       "min       -1.552697\n",
       "25%        0.091912\n",
       "50%        0.161193\n",
       "75%        0.247400\n",
       "max        0.868417\n",
       "Name: operating_margin, dtype: float64"
      ]
     },
     "execution_count": 22,
     "metadata": {},
     "output_type": "execute_result"
    }
   ],
   "source": [
    "# exclude companies with negative operating expenses or negative cost of revenue\n",
    "opex = fundamentals.opex\n",
    "cor = fundamentals.cor\n",
    "operating_margin = fundamentals[\"operating_margin\"].where((opex > 0) & (cor > 0))\n",
    "operating_margin.describe()"
   ]
  },
  {
   "cell_type": "code",
   "execution_count": 23,
   "metadata": {},
   "outputs": [
    {
     "data": {
      "text/plain": [
       "<Axes: ylabel='Frequency'>"
      ]
     },
     "execution_count": 23,
     "metadata": {},
     "output_type": "execute_result"
    },
    {
     "data": {
      "image/png": "[encoded data removed]",
      "text/plain": [
       "<Figure size 640x480 with 1 Axes>"
      ]
     },
     "metadata": {},
     "output_type": "display_data"
    }
   ],
   "source": [
    "operating_margin.plot.hist()"
   ]
  },
  {
   "cell_type": "code",
   "execution_count": 24,
   "metadata": {},
   "outputs": [
    {
     "data": {
      "text/plain": [
       "<Axes: ylabel='Frequency'>"
      ]
     },
     "execution_count": 24,
     "metadata": {},
     "output_type": "execute_result"
    },
    {
     "data": {
      "image/png": "[encoded data removed]",
      "text/plain": [
       "<Figure size 640x480 with 1 Axes>"
      ]
     },
     "metadata": {},
     "output_type": "display_data"
    }
   ],
   "source": [
    "operating_margin.plot.hist(bins=20, range=(-1, 1))"
   ]
  },
  {
   "cell_type": "code",
   "execution_count": 28,
   "metadata": {},
   "outputs": [
    {
     "data": {
      "text/plain": [
       "<Axes: ylabel='Frequency'>"
      ]
     },
     "execution_count": 28,
     "metadata": {},
     "output_type": "execute_result"
    },
    {
     "data": {
      "image/png": "[encoded data removed]",
      "text/plain": [
       "<Figure size 640x480 with 1 Axes>"
      ]
     },
     "metadata": {},
     "output_type": "display_data"
    }
   ],
   "source": [
    "# Beyond a certain point, increasingly negative operating margins don't provide useful additional information; it's enough to know that the company is very unprofitable.\n",
    "operating_margin = operating_margin.clip(-1, 1)\n",
    "operating_margin.plot.hist(bins=20)\n",
    "# While exploratory data analysis is arguably not the most exciting step of the research process since it doesn't tell us a factor's predictive value, it is an important preparatory step that helps ensure that subsequent research is meaningful. "
   ]
  }
 ],
 "metadata": {
  "kernelspec": {
   "display_name": "Python 3",
   "language": "python",
   "name": "python3"
  },
  "language_info": {
   "codemirror_mode": {
    "name": "ipython",
    "version": 3
   },
   "file_extension": ".py",
   "mimetype": "text/x-python",
   "name": "python",
   "nbconvert_exporter": "python",
   "pygments_lexer": "ipython3",
   "version": "3.10.8"
  },
  "orig_nbformat": 4
 },
 "nbformat": 4,
 "nbformat_minor": 2
}
