{
 "cells": [
  {
   "attachments": {},
   "cell_type": "markdown",
   "metadata": {},
   "source": [
    "Altman Z Score = 1.2A + 1.4B + 3.3C + 0.6D + 1.0E\n",
    "\n",
    "Where:\n",
    " * A = working capital / total assets\n",
    " * B = retained earnings / total assets\n",
    " * C = earnings before interest and tax / total assets\n",
    " * D = market value of equity / total liabilities\n",
    " * E = sales / total assets\n",
    " \n",
    "Altman Z-Scores are often interpreted as follows:\n",
    "\n",
    " * Z-Score >= 3: \"Safe\" Zone\n",
    " * 0 < Z-Score < 3: \"Grey\" Zone\n",
    " * Z-Score < 0: \"Distress\" Zone"
   ]
  },
  {
   "cell_type": "code",
   "execution_count": 1,
   "metadata": {},
   "outputs": [],
   "source": [
    "import sys\n",
    "sys.path.append(\"/Users/weizhang/Documents/_GIT/nyu-hedge-fund-strategies/nyu-hedge-fund-strategies\")\n",
    "import nasdaqdatalink as quandl\n",
    "import matplotlib.pyplot as plt\n",
    "import numpy as np\n",
    "import pandas as pd\n",
    "from sharadar import equity_prices, fundamental_signal\n",
    "from scipy.stats import normaltest, shapiro, skewtest, kurtosistest\n",
    "import statsmodels.api as sm"
   ]
  },
  {
   "cell_type": "code",
   "execution_count": 2,
   "metadata": {},
   "outputs": [],
   "source": [
    "quandl.ApiConfig.api_key = 'NRvcyMwNMXZ2ooDSM3nw'\n",
    "universe = quandl.get_table('SHARADAR/SP500', action='historical', date='2022-12-31')"
   ]
  },
  {
   "cell_type": "code",
   "execution_count": null,
   "metadata": {},
   "outputs": [],
   "source": [
    "fundamentals = quandl.get_table('SHARADAR/SF1', datekey={'gte':'2022-07-31','lte':'2022-12-31'}, dimension=\"ART\", ticker=\",\".join(universe['ticker'].to_list()))\n",
    "fundamentals = fundamentals.drop_duplicates(\"ticker\", keep=\"first\")"
   ]
  },
  {
   "cell_type": "code",
   "execution_count": null,
   "metadata": {},
   "outputs": [],
   "source": [
    "fundamentals['A'] = fundamentals['workingcapital'] / fundamentals['assets']\n",
    "fundamentals['B'] = fundamentals['retearn'] / fundamentals['assets']\n",
    "fundamentals['C'] = fundamentals['ebit'] / fundamentals['assets']\n",
    "fundamentals['D'] = fundamentals['equity'] / fundamentals['liabilities']\n",
    "fundamentals['E'] = fundamentals['revenue'] / fundamentals['assets']\n",
    "fundamentals['Altman'] = 1.2 * fundamentals['A'] + 1.4 * fundamentals['B'] + 3.3 * fundamentals['C'] + 0.6 * fundamentals['D'] + fundamentals['E']"
   ]
  }
 ],
 "metadata": {
  "kernelspec": {
   "display_name": "Python 3",
   "language": "python",
   "name": "python3"
  },
  "language_info": {
   "codemirror_mode": {
    "name": "ipython",
    "version": 3
   },
   "file_extension": ".py",
   "mimetype": "text/x-python",
   "name": "python",
   "nbconvert_exporter": "python",
   "pygments_lexer": "ipython3",
   "version": "3.10.11"
  },
  "orig_nbformat": 4
 },
 "nbformat": 4,
 "nbformat_minor": 2
}
