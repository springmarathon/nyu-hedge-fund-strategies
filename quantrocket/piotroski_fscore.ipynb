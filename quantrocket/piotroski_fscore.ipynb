{
 "cells": [
  {
   "attachments": {},
   "cell_type": "markdown",
   "metadata": {},
   "source": [
    "The Piotroski F-Score is often used by value investors to avoid the so-called value trap, that is, the trap of buying cheap stocks that are only cheap because they are in trouble.\n",
    "The Piotroski F-Score is a composite factor comprising multiple sub-factors. It is calculated as the sum of 9 true/false criteria, resulting in a possible score of 0-9. Points are awarded as follows:\n",
    "\n",
    "- Profitability:\n",
    "    * 1 point if return on assets (ROA) is positive in the current year\n",
    "    * 1 point if operating cash flow is positive in the current year\n",
    "    * 1 point if ROA is higher in the current period than in the previous year\n",
    "    * 1 point if cash flow from operations to total assets is higher than ROA (quality of earnings, accruals)\n",
    "- Leverage, Liquidity and Source of Funds:\n",
    "    * 1 point if long term debt is lower in the current period than in the previous year (decreased leverage, change in long-term leverage ratio)\n",
    "    * 1 point if current ratio is higher in the current period than in the previous year (more liquidity)\n",
    "    * 1 point if no new shares were issued in the last year (lack of dilution, change in the number of shares)\n",
    "- Operating Efficiency:\n",
    "    * 1 point if gross margin is higher in the current period than in the previous year\n",
    "    * 1 point if asset turnover ratio is higher in the current period than in the previous year"
   ]
  },
  {
   "cell_type": "code",
   "execution_count": 79,
   "metadata": {},
   "outputs": [],
   "source": [
    "import nasdaqdatalink as quandl\n",
    "import matplotlib.pyplot as plt\n",
    "import numpy as np\n",
    "import pandas as pd\n",
    "from sharadar import equity_prices, fundamental_signal\n",
    "from scipy.stats import normaltest, shapiro, skewtest, kurtosistest\n",
    "import statsmodels.api as sm"
   ]
  },
  {
   "cell_type": "code",
   "execution_count": 26,
   "metadata": {},
   "outputs": [],
   "source": [
    "quandl.ApiConfig.api_key = 'NRvcyMwNMXZ2ooDSM3nw'\n",
    "universe = quandl.get_table('SHARADAR/SP500', action='historical', date='2022-12-31')"
   ]
  },
  {
   "cell_type": "code",
   "execution_count": 27,
   "metadata": {},
   "outputs": [],
   "source": [
    "fundamentals = quandl.get_table('SHARADAR/SF1', datekey={'gte':'2022-07-31','lte':'2022-12-31'}, dimension=\"ART\", ticker=\",\".join(universe['ticker'].to_list()))\n",
    "fundamentals = fundamentals.drop_duplicates(\"ticker\", keep=\"first\")\n",
    "fundamentals['roa'] = fundamentals['netinc'] / fundamentals['assets']\n",
    "fundamentals['ocf'] = fundamentals['ebit'] - fundamentals['depamor'] - fundamentals['taxliabilities']\n",
    "fundamentals['accruals'] = fundamentals['ocf'] - fundamentals['netinc']"
   ]
  },
  {
   "cell_type": "code",
   "execution_count": 29,
   "metadata": {},
   "outputs": [],
   "source": [
    "p_fundamentals = quandl.get_table('SHARADAR/SF1', datekey={'gte':'2021-07-31','lte':'2021-12-31'}, dimension=\"ART\", ticker=\",\".join(universe['ticker'].to_list()))\n",
    "p_fundamentals = p_fundamentals.drop_duplicates(\"ticker\", keep=\"first\")\n",
    "p_fundamentals = fundamental_signal.operating_margin(p_fundamentals)\n",
    "p_fundamentals['roa'] = p_fundamentals['netinc'] / p_fundamentals['assets']"
   ]
  },
  {
   "cell_type": "code",
   "execution_count": 31,
   "metadata": {},
   "outputs": [],
   "source": [
    "fundamentals = pd.merge(left=fundamentals, right=p_fundamentals, left_on=\"ticker\", right_on=\"ticker\", how=\"inner\", suffixes=('', '_p'))\n",
    "fundamentals[\"roa_change\"] = fundamentals[\"roa\"] - fundamentals[\"roa_p\"]\n",
    "fundamentals[\"de_change\"] = fundamentals[\"de\"] - fundamentals[\"de_p\"]\n",
    "fundamentals[\"currentratio_change\"] = fundamentals[\"currentratio\"] - fundamentals[\"currentratio_p\"]\n",
    "fundamentals[\"dilution\"] = fundamentals[\"sharesbas\"] - fundamentals[\"sharesbas_p\"]\n",
    "fundamentals[\"grossmargin_change\"] = fundamentals[\"grossmargin\"] - fundamentals[\"grossmargin_p\"]\n",
    "fundamentals[\"assetturnover_change\"] = fundamentals[\"assetturnover\"] - fundamentals[\"assetturnover_p\"]"
   ]
  },
  {
   "cell_type": "code",
   "execution_count": 34,
   "metadata": {},
   "outputs": [],
   "source": [
    "signals = fundamentals[[\"ticker\", \"calendardate\", \"datekey\", \"roa\", \"ocf\", \"roa_change\", \"accruals\", \"de_change\", \"currentratio_change\", \"dilution\", \"grossmargin_change\", \"assetturnover_change\"]]\n",
    "signals.loc[:, \"score\"] = 0\n",
    "signals.loc[:, \"score\"] = signals[\"score\"] + (signals[\"roa\"] > 0)\n",
    "signals.loc[:, \"score\"] = signals[\"score\"] + (signals[\"ocf\"] > 0)\n",
    "signals.loc[:, \"score\"] = signals[\"score\"] + (signals[\"roa_change\"] > 0)\n",
    "signals.loc[:, \"score\"] = signals[\"score\"] + (signals[\"accruals\"] > 0)\n",
    "signals.loc[:, \"score\"] = signals[\"score\"] + (signals[\"de_change\"] < 0)\n",
    "signals.loc[:, \"score\"] = signals[\"score\"] + (signals[\"currentratio_change\"] > 0)\n",
    "signals.loc[:, \"score\"] = signals[\"score\"] + (signals[\"dilution\"] < 0)\n",
    "signals.loc[:, \"score\"] = signals[\"score\"] + (signals[\"grossmargin_change\"] > 0)\n",
    "signals.loc[:, \"score\"] = signals[\"score\"] + (signals[\"assetturnover_change\"] > 0)"
   ]
  },
  {
   "cell_type": "code",
   "execution_count": 59,
   "metadata": {},
   "outputs": [
    {
     "data": {
      "text/html": [
       "<div>\n",
       "<style scoped>\n",
       "    .dataframe tbody tr th:only-of-type {\n",
       "        vertical-align: middle;\n",
       "    }\n",
       "\n",
       "    .dataframe tbody tr th {\n",
       "        vertical-align: top;\n",
       "    }\n",
       "\n",
       "    .dataframe thead th {\n",
       "        text-align: right;\n",
       "    }\n",
       "</style>\n",
       "<table border=\"1\" class=\"dataframe\">\n",
       "  <thead>\n",
       "    <tr style=\"text-align: right;\">\n",
       "      <th></th>\n",
       "      <th>ticker</th>\n",
       "      <th>calendardate</th>\n",
       "      <th>datekey</th>\n",
       "      <th>roa</th>\n",
       "      <th>ocf</th>\n",
       "      <th>roa_change</th>\n",
       "      <th>accruals</th>\n",
       "      <th>de_change</th>\n",
       "      <th>currentratio_change</th>\n",
       "      <th>dilution</th>\n",
       "      <th>grossmargin_change</th>\n",
       "      <th>assetturnover_change</th>\n",
       "      <th>score</th>\n",
       "    </tr>\n",
       "  </thead>\n",
       "  <tbody>\n",
       "    <tr>\n",
       "      <th>0</th>\n",
       "      <td>ZTS</td>\n",
       "      <td>2022-09-30</td>\n",
       "      <td>2022-11-03</td>\n",
       "      <td>0.151163</td>\n",
       "      <td>1.742000e+09</td>\n",
       "      <td>0.006544</td>\n",
       "      <td>-3.250000e+08</td>\n",
       "      <td>0.004</td>\n",
       "      <td>-2.267</td>\n",
       "      <td>-7053827</td>\n",
       "      <td>0.003</td>\n",
       "      <td>0.028</td>\n",
       "      <td>6</td>\n",
       "    </tr>\n",
       "    <tr>\n",
       "      <th>1</th>\n",
       "      <td>ZION</td>\n",
       "      <td>2022-09-30</td>\n",
       "      <td>2022-11-03</td>\n",
       "      <td>0.009449</td>\n",
       "      <td>9.750000e+08</td>\n",
       "      <td>-0.004140</td>\n",
       "      <td>1.390000e+08</td>\n",
       "      <td>7.481</td>\n",
       "      <td>NaN</td>\n",
       "      <td>-6845709</td>\n",
       "      <td>0.000</td>\n",
       "      <td>-0.006</td>\n",
       "      <td>4</td>\n",
       "    </tr>\n",
       "    <tr>\n",
       "      <th>2</th>\n",
       "      <td>ZBRA</td>\n",
       "      <td>2022-09-30</td>\n",
       "      <td>2022-11-01</td>\n",
       "      <td>0.062836</td>\n",
       "      <td>2.170000e+08</td>\n",
       "      <td>-0.081239</td>\n",
       "      <td>-2.510000e+08</td>\n",
       "      <td>0.720</td>\n",
       "      <td>-0.061</td>\n",
       "      <td>-1811693</td>\n",
       "      <td>-0.017</td>\n",
       "      <td>-0.137</td>\n",
       "      <td>3</td>\n",
       "    </tr>\n",
       "    <tr>\n",
       "      <th>3</th>\n",
       "      <td>ZBH</td>\n",
       "      <td>2022-09-30</td>\n",
       "      <td>2022-11-02</td>\n",
       "      <td>0.013027</td>\n",
       "      <td>-1.667000e+09</td>\n",
       "      <td>-0.021099</td>\n",
       "      <td>-1.944900e+09</td>\n",
       "      <td>-0.147</td>\n",
       "      <td>0.168</td>\n",
       "      <td>944384</td>\n",
       "      <td>-0.007</td>\n",
       "      <td>0.000</td>\n",
       "      <td>3</td>\n",
       "    </tr>\n",
       "    <tr>\n",
       "      <th>4</th>\n",
       "      <td>YUM</td>\n",
       "      <td>2022-09-30</td>\n",
       "      <td>2022-11-08</td>\n",
       "      <td>0.222184</td>\n",
       "      <td>1.993000e+09</td>\n",
       "      <td>-0.023493</td>\n",
       "      <td>7.090000e+08</td>\n",
       "      <td>0.140</td>\n",
       "      <td>-0.240</td>\n",
       "      <td>-11445237</td>\n",
       "      <td>-0.001</td>\n",
       "      <td>0.053</td>\n",
       "      <td>5</td>\n",
       "    </tr>\n",
       "  </tbody>\n",
       "</table>\n",
       "</div>"
      ],
      "text/plain": [
       "  ticker calendardate    datekey       roa           ocf  roa_change   \n",
       "0    ZTS   2022-09-30 2022-11-03  0.151163  1.742000e+09    0.006544  \\\n",
       "1   ZION   2022-09-30 2022-11-03  0.009449  9.750000e+08   -0.004140   \n",
       "2   ZBRA   2022-09-30 2022-11-01  0.062836  2.170000e+08   -0.081239   \n",
       "3    ZBH   2022-09-30 2022-11-02  0.013027 -1.667000e+09   -0.021099   \n",
       "4    YUM   2022-09-30 2022-11-08  0.222184  1.993000e+09   -0.023493   \n",
       "\n",
       "       accruals  de_change  currentratio_change  dilution  grossmargin_change   \n",
       "0 -3.250000e+08      0.004               -2.267  -7053827               0.003  \\\n",
       "1  1.390000e+08      7.481                  NaN  -6845709               0.000   \n",
       "2 -2.510000e+08      0.720               -0.061  -1811693              -0.017   \n",
       "3 -1.944900e+09     -0.147                0.168    944384              -0.007   \n",
       "4  7.090000e+08      0.140               -0.240 -11445237              -0.001   \n",
       "\n",
       "   assetturnover_change  score  \n",
       "0                 0.028      6  \n",
       "1                -0.006      4  \n",
       "2                -0.137      3  \n",
       "3                 0.000      3  \n",
       "4                 0.053      5  "
      ]
     },
     "execution_count": 59,
     "metadata": {},
     "output_type": "execute_result"
    }
   ],
   "source": [
    "signals.sort_values(\"score\", ascending=False)\n",
    "signals.head()"
   ]
  },
  {
   "cell_type": "code",
   "execution_count": 76,
   "metadata": {},
   "outputs": [
    {
     "name": "stdout",
     "output_type": "stream",
     "text": [
      "4.855421686746988\n",
      "1.7451227588776912\n",
      "-0.07602193387251252\n",
      "(209, 13)\n",
      "(289, 13)\n",
      "-0.2975972396753819\n",
      "-0.2975972396753819\n"
     ]
    }
   ],
   "source": [
    "print(signals[\"score\"].mean())\n",
    "print(signals[\"score\"].std())\n",
    "print(signals[\"score\"].skew())\n",
    "# Negative skewness, the tail is more pronouced on the left rather than the right side.\n",
    "# Most of the values end up being right of the mean. The most extreme values are found further to the left.\n",
    "# You can expect some small gains here and there but you can generally expect to see a few large losses here and there as an investor.\n",
    "print(signals[signals[\"score\"] < signals[\"score\"].mean()].shape)\n",
    "print(signals[signals[\"score\"] > signals[\"score\"].mean()].shape)\n",
    "print(signals[\"score\"].kurt())\n",
    "print(signals[\"score\"].kurtosis())\n",
    "# Platykurtic (kurtosis < 3.0). These types of distributions have short tails (fewer outliers.)\n",
    "# Platykurtic distributions have demonstrated more stability than other curves because extreme price movements rarely occured in the past.\n"
   ]
  },
  {
   "cell_type": "code",
   "execution_count": 80,
   "metadata": {},
   "outputs": [
    {
     "name": "stdout",
     "output_type": "stream",
     "text": [
      "SkewtestResult(statistic=-0.6995884479762048, pvalue=0.4841843589404966)\n",
      "KurtosistestResult(statistic=-1.5172013809398857, pvalue=0.12921584777934247)\n",
      "NormaltestResult(statistic=2.7913240268676507, pvalue=0.24766902186370035)\n"
     ]
    }
   ],
   "source": [
    "# One of the most common assumptions for statistical tests is that the data used are normally distributed.\n",
    "# For example, if you want to run a t-test or an ANOVA, you must first test whether the data or variables are normally distributed.\n",
    "# The assumption of normal distribution is also important for linear regression analysis, but in this case it is important that the error made by the model is normally distributed, not the data itself.\n",
    "# The test rejects the hypothesis of normality when the p-value is less than or equal to 0.05.\n",
    "# Failing the normality test allows you to state with 95% confidence the data does not fit the normal distribution.\n",
    "print(skewtest(signals[\"score\"]))\n",
    "print(kurtosistest(signals[\"score\"]))\n",
    "print(normaltest(signals[\"score\"]))\n",
    "# The function tests the null hypothesis that a sample comes from a normal distribution.\n",
    "# It is based on D'Agostino and Pearson's that combines skew and kurtosis to produce an omnibus test of normality\n",
    "# statistic is s^2 + k^2, where s is the z-score returned by skewtest and k is the z-score returned by kurtosistest\n",
    "# p-value is smaller than 0.05? No. Normal distribution is assumed."
   ]
  },
  {
   "cell_type": "code",
   "execution_count": 65,
   "metadata": {},
   "outputs": [
    {
     "data": {
      "text/plain": [
       "ShapiroResult(statistic=0.9692857265472412, pvalue=1.0480296630532848e-08)"
      ]
     },
     "execution_count": 65,
     "metadata": {},
     "output_type": "execute_result"
    }
   ],
   "source": [
    "shapiro(signals[\"score\"])\n",
    "# The Shapiro-Wilk test tests the null hypothesis that the data was drawn from a normal distribution."
   ]
  },
  {
   "cell_type": "code",
   "execution_count": 61,
   "metadata": {},
   "outputs": [
    {
     "data": {
      "text/plain": [
       "<Axes: >"
      ]
     },
     "execution_count": 61,
     "metadata": {},
     "output_type": "execute_result"
    },
    {
     "data": {
      "image/png": "[encoded data removed]",
      "text/plain": [
       "<Figure size 640x480 with 1 Axes>"
      ]
     },
     "metadata": {},
     "output_type": "display_data"
    }
   ],
   "source": [
    "signals[\"score\"].hist()"
   ]
  },
  {
   "cell_type": "code",
   "execution_count": 68,
   "metadata": {},
   "outputs": [
    {
     "data": {
      "image/png": "[encoded data removed]",
      "text/plain": [
       "<Figure size 640x480 with 1 Axes>"
      ]
     },
     "execution_count": 68,
     "metadata": {},
     "output_type": "execute_result"
    },
    {
     "data": {
      "image/png": "[encoded data removed]",
      "text/plain": [
       "<Figure size 640x480 with 1 Axes>"
      ]
     },
     "metadata": {},
     "output_type": "display_data"
    }
   ],
   "source": [
    "sm.qqplot(signals[\"score\"], line=\"45\")\n",
    "# Sample Quantiles have a tendency to be higher than Theoretical Quantiles"
   ]
  },
  {
   "cell_type": "code",
   "execution_count": null,
   "metadata": {},
   "outputs": [],
   "source": [
    "# As mentioned above, Joseph Piotroski originally proposed the F-Score as a quality filter to be applied on top of a value screen.\n",
    "# That is, an investor would select a basket of cheap stocks, then apply the F-Score to weed out the low-quality stocks within that subset."
   ]
  },
  {
   "cell_type": "code",
   "execution_count": null,
   "metadata": {},
   "outputs": [],
   "source": [
    "# Zipline is built on top of Python's scientific computing libraries, most importantly numpy and pandas. These libraries are highly optimized and are themselves written in compiled languages.\n",
    "# Although C# is natively fast, it lacks a comparable ecosystem of scientific packages."
   ]
  }
 ],
 "metadata": {
  "kernelspec": {
   "display_name": "Python 3",
   "language": "python",
   "name": "python3"
  },
  "language_info": {
   "codemirror_mode": {
    "name": "ipython",
    "version": 3
   },
   "file_extension": ".py",
   "mimetype": "text/x-python",
   "name": "python",
   "nbconvert_exporter": "python",
   "pygments_lexer": "ipython3",
   "version": "3.10.11"
  },
  "orig_nbformat": 4
 },
 "nbformat": 4,
 "nbformat_minor": 2
}
