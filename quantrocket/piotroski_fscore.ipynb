{
 "cells": [
  {
   "attachments": {},
   "cell_type": "markdown",
   "metadata": {},
   "source": [
    "The Piotroski F-Score is often used by value investors to avoid the so-called value trap, that is, the trap of buying cheap stocks that are only cheap because they are in trouble.\n",
    "The Piotroski F-Score is a composite factor comprising multiple sub-factors. It is calculated as the sum of 9 true/false criteria, resulting in a possible score of 0-9. Points are awarded as follows:\n",
    "\n",
    "- Profitability:\n",
    "    * 1 point if return on assets (ROA) is positive in the current year\n",
    "    * 1 point if operating cash flow is positive in the current year\n",
    "    * 1 point if ROA is higher in the current period than in the previous year\n",
    "    * 1 point if cash flow from operations to total assets is higher than ROA (quality of earnings, accruals)\n",
    "- Leverage, Liquidity and Source of Funds:\n",
    "    * 1 point if long term debt is lower in the current period than in the previous year (decreased leverage, change in long-term leverage ratio)\n",
    "    * 1 point if current ratio is higher in the current period than in the previous year (more liquidity)\n",
    "    * 1 point if no new shares were issued in the last year (lack of dilution, change in the number of shares)\n",
    "- Operating Efficiency:\n",
    "    * 1 point if gross margin is higher in the current period than in the previous year\n",
    "    * 1 point if asset turnover ratio is higher in the current period than in the previous year"
   ]
  },
  {
   "cell_type": "code",
   "execution_count": 1,
   "metadata": {},
   "outputs": [],
   "source": [
    "import sys\n",
    "sys.path.append(\"/Users/weizhang/Documents/_GIT/nyu-hedge-fund-strategies/nyu-hedge-fund-strategies\")\n",
    "import nasdaqdatalink as quandl\n",
    "import matplotlib.pyplot as plt\n",
    "import numpy as np\n",
    "import pandas as pd\n",
    "from common import factor_distribution\n",
    "from sharadar import equity_prices, fundamental_signal\n",
    "from scipy.stats import pearsonr"
   ]
  },
  {
   "cell_type": "code",
   "execution_count": 2,
   "metadata": {},
   "outputs": [],
   "source": [
    "quandl.ApiConfig.api_key = 'NRvcyMwNMXZ2ooDSM3nw'\n",
    "universe = quandl.get_table('SHARADAR/SP500', action='historical', date='2022-12-31')"
   ]
  },
  {
   "cell_type": "code",
   "execution_count": 3,
   "metadata": {},
   "outputs": [],
   "source": [
    "fundamentals = quandl.get_table('SHARADAR/SF1', datekey={'gte':'2022-07-31','lte':'2022-12-31'}, dimension=\"ART\", ticker=\",\".join(universe['ticker'].to_list()))\n",
    "fundamentals = fundamentals.drop_duplicates(\"ticker\", keep=\"first\")\n",
    "fundamentals = fundamental_signal.operating_margin(fundamentals)"
   ]
  },
  {
   "cell_type": "code",
   "execution_count": 4,
   "metadata": {},
   "outputs": [],
   "source": [
    "fundamentals['roa'] = fundamentals['netinc'] / fundamentals['assets']\n",
    "fundamentals['ocf'] = fundamentals['ebit'] - fundamentals['depamor'] - fundamentals['taxliabilities']\n",
    "fundamentals['accruals'] = fundamentals['ocf'] - fundamentals['netinc']"
   ]
  },
  {
   "cell_type": "code",
   "execution_count": null,
   "metadata": {},
   "outputs": [],
   "source": [
    "p_fundamentals = quandl.get_table('SHARADAR/SF1', datekey={'gte':'2021-07-31','lte':'2021-12-31'}, dimension=\"ART\", ticker=\",\".join(universe['ticker'].to_list()))\n",
    "p_fundamentals = p_fundamentals.drop_duplicates(\"ticker\", keep=\"first\")\n",
    "p_fundamentals = fundamental_signal.operating_margin(p_fundamentals)\n"
   ]
  },
  {
   "cell_type": "code",
   "execution_count": null,
   "metadata": {},
   "outputs": [],
   "source": [
    "p_fundamentals['roa'] = p_fundamentals['netinc'] / p_fundamentals['assets']"
   ]
  },
  {
   "cell_type": "code",
   "execution_count": null,
   "metadata": {},
   "outputs": [],
   "source": [
    "\n",
    "fundamentals = pd.merge(left=fundamentals, right=p_fundamentals, left_on=\"ticker\", right_on=\"ticker\", how=\"inner\", suffixes=('_c', '_p'))\n",
    "fundamentals[\"roa_change\"] = fundamentals[\"roa_c\"] - fundamentals[\"roa_p\"]\n",
    "fundamentals[\"dilution\"] = fundamentals[\"sharesbas_c\"] - fundamentals[\"sharesbas_p\"]\n",
    "fundamentals[\"grossmargin_change\"] = fundamentals[\"grossmargin_c\"] - fundamentals[\"grossmargin_p\"]"
   ]
  }
 ],
 "metadata": {
  "kernelspec": {
   "display_name": "Python 3",
   "language": "python",
   "name": "python3"
  },
  "language_info": {
   "codemirror_mode": {
    "name": "ipython",
    "version": 3
   },
   "file_extension": ".py",
   "mimetype": "text/x-python",
   "name": "python",
   "nbconvert_exporter": "python",
   "pygments_lexer": "ipython3",
   "version": "3.10.11"
  },
  "orig_nbformat": 4
 },
 "nbformat": 4,
 "nbformat_minor": 2
}
